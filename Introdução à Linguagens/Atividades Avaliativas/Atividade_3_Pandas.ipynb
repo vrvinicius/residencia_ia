{
 "cells": [
  {
   "cell_type": "markdown",
   "metadata": {},
   "source": [
    "# **Atividade Avaliativa 3**\n",
    "##### `Residente`: Vinícius dos Reis Vieira"
   ]
  },
  {
   "cell_type": "markdown",
   "metadata": {
    "id": "oIXB2qX5Gc40"
   },
   "source": [
    "## Considere a base de dados **Customer Data and Bank Loans**\n",
    "- https://www.kaggle.com/datasets/daniellopez01/credit-risk"
   ]
  },
  {
   "cell_type": "markdown",
   "metadata": {
    "id": "qEC9NLq2Gm1d"
   },
   "source": [
    "### Exercícios:\n",
    "---\n",
    "\n",
    "1. **Agrupamento por `credit_history` com resumo estatístico:**  \n",
    "   Agrupe os dados pela coluna `credit_history` e calcule:\n",
    "   - A soma total dos valores da coluna `amount`;\n",
    "   - A idade média (`age`) para cada grupo.\n",
    "\n",
    "---\n",
    "\n",
    "2. **Criação de uma coluna com média ajustada:**  \n",
    "   Crie uma nova coluna chamada `amount_ratio`, que contém o valor de `amount` dividido pela média de `amount` em cada categoria de `purpose`.\n",
    "\n",
    "---\n",
    "\n",
    "3. **Classificação de idade:**  \n",
    "   Crie uma nova coluna chamada `age_group` que classifica os valores de `age` em categorias:\n",
    "   - \"Under 30\" se a idade for menor que 30;\n",
    "   - \"30-50\" se a idade estiver entre 30 e 50;\n",
    "   - \"Over 50\" se a idade for maior que 50.\n",
    "\n",
    "---\n",
    "\n",
    "4. **Análise de variabilidade por `employment_duration` e `housing`:**  \n",
    "   Agrupe os dados pelas colunas `employment_duration` e `housing` e calcule:\n",
    "   - A média e o desvio padrão (`std`) da coluna `amount`.\n",
    "\n",
    "---\n",
    "\n",
    "5. **Distribuição de idade mínima e máxima por `job`:**  \n",
    "   Agrupe os dados pela coluna `job` e calcule:\n",
    "   - A idade mínima (`age_min`) e a idade máxima (`age_max`) para cada categoria de emprego.\n",
    "\n",
    "---\n",
    "\n",
    "6. **Diferença entre o valor do empréstimo e a média por histórico de crédito (`transform`):**  \n",
    "   Crie uma nova coluna chamada `amount_diff`, que contém a diferença entre o valor de `amount` e a média de `amount` dentro de cada grupo de `credit_history`.\n",
    "\n",
    "---\n",
    "\n",
    "7. **Quantidade de dependentes por tipo de conta bancária (`groupby` e `agg`):**  \n",
    "   Agrupe os dados pela coluna `checking_balance` e calcule:\n",
    "   - A soma total de `dependents`;\n",
    "   - O número médio de dependentes por categoria de conta bancária.\n",
    "\n",
    "---\n"
   ]
  },
  {
   "cell_type": "markdown",
   "metadata": {},
   "source": [
    "### Solução"
   ]
  },
  {
   "cell_type": "code",
   "execution_count": 1,
   "metadata": {},
   "outputs": [
    {
     "data": {
      "text/html": [
       "<div>\n",
       "<style scoped>\n",
       "    .dataframe tbody tr th:only-of-type {\n",
       "        vertical-align: middle;\n",
       "    }\n",
       "\n",
       "    .dataframe tbody tr th {\n",
       "        vertical-align: top;\n",
       "    }\n",
       "\n",
       "    .dataframe thead th {\n",
       "        text-align: right;\n",
       "    }\n",
       "</style>\n",
       "<table border=\"1\" class=\"dataframe\">\n",
       "  <thead>\n",
       "    <tr style=\"text-align: right;\">\n",
       "      <th></th>\n",
       "      <th>checking_balance</th>\n",
       "      <th>months_loan_duration</th>\n",
       "      <th>credit_history</th>\n",
       "      <th>purpose</th>\n",
       "      <th>amount</th>\n",
       "      <th>savings_balance</th>\n",
       "      <th>employment_duration</th>\n",
       "      <th>percent_of_income</th>\n",
       "      <th>years_at_residence</th>\n",
       "      <th>age</th>\n",
       "      <th>other_credit</th>\n",
       "      <th>housing</th>\n",
       "      <th>existing_loans_count</th>\n",
       "      <th>job</th>\n",
       "      <th>dependents</th>\n",
       "      <th>phone</th>\n",
       "      <th>default</th>\n",
       "    </tr>\n",
       "  </thead>\n",
       "  <tbody>\n",
       "    <tr>\n",
       "      <th>0</th>\n",
       "      <td>&lt; 0 DM</td>\n",
       "      <td>6</td>\n",
       "      <td>critical</td>\n",
       "      <td>furniture/appliances</td>\n",
       "      <td>1169</td>\n",
       "      <td>unknown</td>\n",
       "      <td>&gt; 7 years</td>\n",
       "      <td>4</td>\n",
       "      <td>4</td>\n",
       "      <td>67</td>\n",
       "      <td>none</td>\n",
       "      <td>own</td>\n",
       "      <td>2</td>\n",
       "      <td>skilled</td>\n",
       "      <td>1</td>\n",
       "      <td>yes</td>\n",
       "      <td>no</td>\n",
       "    </tr>\n",
       "    <tr>\n",
       "      <th>1</th>\n",
       "      <td>1 - 200 DM</td>\n",
       "      <td>48</td>\n",
       "      <td>good</td>\n",
       "      <td>furniture/appliances</td>\n",
       "      <td>5951</td>\n",
       "      <td>&lt; 100 DM</td>\n",
       "      <td>1 - 4 years</td>\n",
       "      <td>2</td>\n",
       "      <td>2</td>\n",
       "      <td>22</td>\n",
       "      <td>none</td>\n",
       "      <td>own</td>\n",
       "      <td>1</td>\n",
       "      <td>skilled</td>\n",
       "      <td>1</td>\n",
       "      <td>no</td>\n",
       "      <td>yes</td>\n",
       "    </tr>\n",
       "    <tr>\n",
       "      <th>2</th>\n",
       "      <td>unknown</td>\n",
       "      <td>12</td>\n",
       "      <td>critical</td>\n",
       "      <td>education</td>\n",
       "      <td>2096</td>\n",
       "      <td>&lt; 100 DM</td>\n",
       "      <td>4 - 7 years</td>\n",
       "      <td>2</td>\n",
       "      <td>3</td>\n",
       "      <td>49</td>\n",
       "      <td>none</td>\n",
       "      <td>own</td>\n",
       "      <td>1</td>\n",
       "      <td>unskilled</td>\n",
       "      <td>2</td>\n",
       "      <td>no</td>\n",
       "      <td>no</td>\n",
       "    </tr>\n",
       "    <tr>\n",
       "      <th>3</th>\n",
       "      <td>&lt; 0 DM</td>\n",
       "      <td>42</td>\n",
       "      <td>good</td>\n",
       "      <td>furniture/appliances</td>\n",
       "      <td>7882</td>\n",
       "      <td>&lt; 100 DM</td>\n",
       "      <td>4 - 7 years</td>\n",
       "      <td>2</td>\n",
       "      <td>4</td>\n",
       "      <td>45</td>\n",
       "      <td>none</td>\n",
       "      <td>other</td>\n",
       "      <td>1</td>\n",
       "      <td>skilled</td>\n",
       "      <td>2</td>\n",
       "      <td>no</td>\n",
       "      <td>no</td>\n",
       "    </tr>\n",
       "    <tr>\n",
       "      <th>4</th>\n",
       "      <td>&lt; 0 DM</td>\n",
       "      <td>24</td>\n",
       "      <td>poor</td>\n",
       "      <td>car</td>\n",
       "      <td>4870</td>\n",
       "      <td>&lt; 100 DM</td>\n",
       "      <td>1 - 4 years</td>\n",
       "      <td>3</td>\n",
       "      <td>4</td>\n",
       "      <td>53</td>\n",
       "      <td>none</td>\n",
       "      <td>other</td>\n",
       "      <td>2</td>\n",
       "      <td>skilled</td>\n",
       "      <td>2</td>\n",
       "      <td>no</td>\n",
       "      <td>yes</td>\n",
       "    </tr>\n",
       "  </tbody>\n",
       "</table>\n",
       "</div>"
      ],
      "text/plain": [
       "  checking_balance  months_loan_duration credit_history               purpose  \\\n",
       "0           < 0 DM                     6       critical  furniture/appliances   \n",
       "1       1 - 200 DM                    48           good  furniture/appliances   \n",
       "2          unknown                    12       critical             education   \n",
       "3           < 0 DM                    42           good  furniture/appliances   \n",
       "4           < 0 DM                    24           poor                   car   \n",
       "\n",
       "   amount savings_balance employment_duration  percent_of_income  \\\n",
       "0    1169         unknown           > 7 years                  4   \n",
       "1    5951        < 100 DM         1 - 4 years                  2   \n",
       "2    2096        < 100 DM         4 - 7 years                  2   \n",
       "3    7882        < 100 DM         4 - 7 years                  2   \n",
       "4    4870        < 100 DM         1 - 4 years                  3   \n",
       "\n",
       "   years_at_residence  age other_credit housing  existing_loans_count  \\\n",
       "0                   4   67         none     own                     2   \n",
       "1                   2   22         none     own                     1   \n",
       "2                   3   49         none     own                     1   \n",
       "3                   4   45         none   other                     1   \n",
       "4                   4   53         none   other                     2   \n",
       "\n",
       "         job  dependents phone default  \n",
       "0    skilled           1   yes      no  \n",
       "1    skilled           1    no     yes  \n",
       "2  unskilled           2    no      no  \n",
       "3    skilled           2    no      no  \n",
       "4    skilled           2    no     yes  "
      ]
     },
     "execution_count": 1,
     "metadata": {},
     "output_type": "execute_result"
    }
   ],
   "source": [
    "import pandas as pd\n",
    "\n",
    "df = pd.read_csv(r'C:\\Users\\vinicius_vieira\\OneDrive - Sicredi\\Residência IA\\Introdução à Linguagens\\Atividades Avaliativas\\data\\credit.csv')\n",
    "\n",
    "df.head()"
   ]
  },
  {
   "cell_type": "markdown",
   "metadata": {},
   "source": [
    "1. **Agrupamento por `credit_history` com resumo estatístico:**  \n",
    "   Agrupe os dados pela coluna `credit_history` e calcule:\n",
    "   - A soma total dos valores da coluna `amount`;\n",
    "   - A idade média (`age`) para cada grupo."
   ]
  },
  {
   "cell_type": "code",
   "execution_count": 6,
   "metadata": {},
   "outputs": [
    {
     "name": "stdout",
     "output_type": "stream",
     "text": [
      "  credit_history   amount        age\n",
      "0       critical   904795  38.436860\n",
      "1           good  1611708  33.877358\n",
      "2        perfect   212227  34.300000\n",
      "3           poor   378629  36.136364\n",
      "4      very good   163899  36.265306\n"
     ]
    }
   ],
   "source": [
    "df_agrupado = df.groupby('credit_history')\n",
    "\n",
    "resumo_estats = df_agrupado.agg({'amount': 'sum', 'age': 'mean'}).reset_index()\n",
    "\n",
    "print(resumo_estats)"
   ]
  },
  {
   "cell_type": "markdown",
   "metadata": {},
   "source": [
    "2. **Criação de uma coluna com média ajustada:**  \n",
    "   Crie uma nova coluna chamada `amount_ratio`, que contém o valor de `amount` dividido pela média de `amount` em cada categoria de `purpose`."
   ]
  },
  {
   "cell_type": "code",
   "execution_count": 8,
   "metadata": {},
   "outputs": [
    {
     "data": {
      "text/html": [
       "<div>\n",
       "<style scoped>\n",
       "    .dataframe tbody tr th:only-of-type {\n",
       "        vertical-align: middle;\n",
       "    }\n",
       "\n",
       "    .dataframe tbody tr th {\n",
       "        vertical-align: top;\n",
       "    }\n",
       "\n",
       "    .dataframe thead th {\n",
       "        text-align: right;\n",
       "    }\n",
       "</style>\n",
       "<table border=\"1\" class=\"dataframe\">\n",
       "  <thead>\n",
       "    <tr style=\"text-align: right;\">\n",
       "      <th></th>\n",
       "      <th>checking_balance</th>\n",
       "      <th>months_loan_duration</th>\n",
       "      <th>credit_history</th>\n",
       "      <th>purpose</th>\n",
       "      <th>amount</th>\n",
       "      <th>savings_balance</th>\n",
       "      <th>employment_duration</th>\n",
       "      <th>percent_of_income</th>\n",
       "      <th>years_at_residence</th>\n",
       "      <th>age</th>\n",
       "      <th>other_credit</th>\n",
       "      <th>housing</th>\n",
       "      <th>existing_loans_count</th>\n",
       "      <th>job</th>\n",
       "      <th>dependents</th>\n",
       "      <th>phone</th>\n",
       "      <th>default</th>\n",
       "      <th>amount_ratio</th>\n",
       "    </tr>\n",
       "  </thead>\n",
       "  <tbody>\n",
       "    <tr>\n",
       "      <th>0</th>\n",
       "      <td>&lt; 0 DM</td>\n",
       "      <td>6</td>\n",
       "      <td>critical</td>\n",
       "      <td>furniture/appliances</td>\n",
       "      <td>1169</td>\n",
       "      <td>unknown</td>\n",
       "      <td>&gt; 7 years</td>\n",
       "      <td>4</td>\n",
       "      <td>4</td>\n",
       "      <td>67</td>\n",
       "      <td>none</td>\n",
       "      <td>own</td>\n",
       "      <td>2</td>\n",
       "      <td>skilled</td>\n",
       "      <td>1</td>\n",
       "      <td>yes</td>\n",
       "      <td>no</td>\n",
       "      <td>0.435506</td>\n",
       "    </tr>\n",
       "    <tr>\n",
       "      <th>1</th>\n",
       "      <td>1 - 200 DM</td>\n",
       "      <td>48</td>\n",
       "      <td>good</td>\n",
       "      <td>furniture/appliances</td>\n",
       "      <td>5951</td>\n",
       "      <td>&lt; 100 DM</td>\n",
       "      <td>1 - 4 years</td>\n",
       "      <td>2</td>\n",
       "      <td>2</td>\n",
       "      <td>22</td>\n",
       "      <td>none</td>\n",
       "      <td>own</td>\n",
       "      <td>1</td>\n",
       "      <td>skilled</td>\n",
       "      <td>1</td>\n",
       "      <td>no</td>\n",
       "      <td>yes</td>\n",
       "      <td>2.217018</td>\n",
       "    </tr>\n",
       "    <tr>\n",
       "      <th>2</th>\n",
       "      <td>unknown</td>\n",
       "      <td>12</td>\n",
       "      <td>critical</td>\n",
       "      <td>education</td>\n",
       "      <td>2096</td>\n",
       "      <td>&lt; 100 DM</td>\n",
       "      <td>4 - 7 years</td>\n",
       "      <td>2</td>\n",
       "      <td>3</td>\n",
       "      <td>49</td>\n",
       "      <td>none</td>\n",
       "      <td>own</td>\n",
       "      <td>1</td>\n",
       "      <td>unskilled</td>\n",
       "      <td>2</td>\n",
       "      <td>no</td>\n",
       "      <td>no</td>\n",
       "      <td>0.727979</td>\n",
       "    </tr>\n",
       "    <tr>\n",
       "      <th>3</th>\n",
       "      <td>&lt; 0 DM</td>\n",
       "      <td>42</td>\n",
       "      <td>good</td>\n",
       "      <td>furniture/appliances</td>\n",
       "      <td>7882</td>\n",
       "      <td>&lt; 100 DM</td>\n",
       "      <td>4 - 7 years</td>\n",
       "      <td>2</td>\n",
       "      <td>4</td>\n",
       "      <td>45</td>\n",
       "      <td>none</td>\n",
       "      <td>other</td>\n",
       "      <td>1</td>\n",
       "      <td>skilled</td>\n",
       "      <td>2</td>\n",
       "      <td>no</td>\n",
       "      <td>no</td>\n",
       "      <td>2.936403</td>\n",
       "    </tr>\n",
       "    <tr>\n",
       "      <th>4</th>\n",
       "      <td>&lt; 0 DM</td>\n",
       "      <td>24</td>\n",
       "      <td>poor</td>\n",
       "      <td>car</td>\n",
       "      <td>4870</td>\n",
       "      <td>&lt; 100 DM</td>\n",
       "      <td>1 - 4 years</td>\n",
       "      <td>3</td>\n",
       "      <td>4</td>\n",
       "      <td>53</td>\n",
       "      <td>none</td>\n",
       "      <td>other</td>\n",
       "      <td>2</td>\n",
       "      <td>skilled</td>\n",
       "      <td>2</td>\n",
       "      <td>no</td>\n",
       "      <td>yes</td>\n",
       "      <td>1.292397</td>\n",
       "    </tr>\n",
       "  </tbody>\n",
       "</table>\n",
       "</div>"
      ],
      "text/plain": [
       "  checking_balance  months_loan_duration credit_history               purpose  \\\n",
       "0           < 0 DM                     6       critical  furniture/appliances   \n",
       "1       1 - 200 DM                    48           good  furniture/appliances   \n",
       "2          unknown                    12       critical             education   \n",
       "3           < 0 DM                    42           good  furniture/appliances   \n",
       "4           < 0 DM                    24           poor                   car   \n",
       "\n",
       "   amount savings_balance employment_duration  percent_of_income  \\\n",
       "0    1169         unknown           > 7 years                  4   \n",
       "1    5951        < 100 DM         1 - 4 years                  2   \n",
       "2    2096        < 100 DM         4 - 7 years                  2   \n",
       "3    7882        < 100 DM         4 - 7 years                  2   \n",
       "4    4870        < 100 DM         1 - 4 years                  3   \n",
       "\n",
       "   years_at_residence  age other_credit housing  existing_loans_count  \\\n",
       "0                   4   67         none     own                     2   \n",
       "1                   2   22         none     own                     1   \n",
       "2                   3   49         none     own                     1   \n",
       "3                   4   45         none   other                     1   \n",
       "4                   4   53         none   other                     2   \n",
       "\n",
       "         job  dependents phone default  amount_ratio  \n",
       "0    skilled           1   yes      no      0.435506  \n",
       "1    skilled           1    no     yes      2.217018  \n",
       "2  unskilled           2    no      no      0.727979  \n",
       "3    skilled           2    no      no      2.936403  \n",
       "4    skilled           2    no     yes      1.292397  "
      ]
     },
     "execution_count": 8,
     "metadata": {},
     "output_type": "execute_result"
    }
   ],
   "source": [
    "media_amount_por_purpose = df.groupby('purpose')['amount'].transform('mean')\n",
    "\n",
    "df['amount_ratio'] = df['amount'] / media_amount_por_purpose\n",
    "\n",
    "df.head(5)"
   ]
  },
  {
   "cell_type": "markdown",
   "metadata": {},
   "source": [
    "3. **Classificação de idade:**  \n",
    "   Crie uma nova coluna chamada `age_group` que classifica os valores de `age` em categorias:\n",
    "   - \"Under 30\" se a idade for menor que 30;\n",
    "   - \"30-50\" se a idade estiver entre 30 e 50;\n",
    "   - \"Over 50\" se a idade for maior que 50."
   ]
  },
  {
   "cell_type": "code",
   "execution_count": 10,
   "metadata": {},
   "outputs": [
    {
     "name": "stdout",
     "output_type": "stream",
     "text": [
      "     age age_group\n",
      "0     67   Over 50\n",
      "1     22  Under 30\n",
      "2     49     30-50\n",
      "3     45     30-50\n",
      "4     53   Over 50\n",
      "..   ...       ...\n",
      "995   31     30-50\n",
      "996   40     30-50\n",
      "997   38     30-50\n",
      "998   23  Under 30\n",
      "999   27  Under 30\n",
      "\n",
      "[1000 rows x 2 columns]\n"
     ]
    }
   ],
   "source": [
    "def categoria_idade(age):\n",
    "    if age < 30:\n",
    "        return 'Under 30'\n",
    "    elif 30 <= age <= 50:\n",
    "        return '30-50'\n",
    "    else:\n",
    "        return 'Over 50'\n",
    "\n",
    "df['age_group'] = df['age'].apply(categoria_idade)\n",
    "\n",
    "print(df[['age', 'age_group']])"
   ]
  },
  {
   "cell_type": "markdown",
   "metadata": {},
   "source": [
    "4. **Análise de variabilidade por `employment_duration` e `housing`:**  \n",
    "   Agrupe os dados pelas colunas `employment_duration` e `housing` e calcule:\n",
    "   - A média e o desvio padrão (`std`) da coluna `amount`."
   ]
  },
  {
   "cell_type": "code",
   "execution_count": 11,
   "metadata": {},
   "outputs": [
    {
     "name": "stdout",
     "output_type": "stream",
     "text": [
      "   employment_duration housing         mean          std\n",
      "0          1 - 4 years   other  5112.961538  3554.197468\n",
      "1          1 - 4 years     own  2999.162698  2590.607900\n",
      "2          1 - 4 years    rent  2799.114754  2339.122571\n",
      "3          4 - 7 years   other  4788.454545  3254.082770\n",
      "4          4 - 7 years     own  3556.053435  3101.828623\n",
      "5          4 - 7 years    rent  3380.593750  2601.450413\n",
      "6             < 1 year   other  3451.000000  1701.995182\n",
      "7             < 1 year     own  2848.445378  2355.647591\n",
      "8             < 1 year    rent  3152.148936  2924.892900\n",
      "9            > 7 years   other  4841.220000  3950.773540\n",
      "10           > 7 years     own  2726.186047  2259.908705\n",
      "11           > 7 years    rent  3382.741935  2424.099227\n",
      "12          unemployed   other  5432.933333  3959.375699\n",
      "13          unemployed     own  3921.769231  3576.914493\n",
      "14          unemployed    rent  3374.500000  2437.238894\n"
     ]
    }
   ],
   "source": [
    "estats_agrupadas = df.groupby(['employment_duration', 'housing'])['amount'].agg(['mean', 'std']).reset_index()\n",
    "\n",
    "print(estats_agrupadas)"
   ]
  },
  {
   "cell_type": "markdown",
   "metadata": {},
   "source": [
    "5. **Distribuição de idade mínima e máxima por `job`:**  \n",
    "   Agrupe os dados pela coluna `job` e calcule:\n",
    "   - A idade mínima (`age_min`) e a idade máxima (`age_max`) para cada categoria de emprego."
   ]
  },
  {
   "cell_type": "code",
   "execution_count": 13,
   "metadata": {},
   "outputs": [
    {
     "name": "stdout",
     "output_type": "stream",
     "text": [
      "          job  age_min  age_max\n",
      "0  management       20       75\n",
      "1     skilled       19       68\n",
      "2  unemployed       23       74\n",
      "3   unskilled       19       74\n"
     ]
    }
   ],
   "source": [
    "estats_idade_agrupada = df.groupby('job')['age'].agg(age_min='min', age_max='max').reset_index()\n",
    "\n",
    "print(estats_idade_agrupada)"
   ]
  },
  {
   "cell_type": "markdown",
   "metadata": {},
   "source": [
    "6. **Diferença entre o valor do empréstimo e a média por histórico de crédito (`transform`):**  \n",
    "   Crie uma nova coluna chamada `amount_diff`, que contém a diferença entre o valor de `amount` e a média de `amount` dentro de cada grupo de `credit_history`."
   ]
  },
  {
   "cell_type": "code",
   "execution_count": 14,
   "metadata": {},
   "outputs": [
    {
     "name": "stdout",
     "output_type": "stream",
     "text": [
      "    credit_history  amount  amount_diff\n",
      "0         critical    1169 -1919.037543\n",
      "1             good    5951  2910.041509\n",
      "2         critical    2096  -992.037543\n",
      "3             good    7882  4841.041509\n",
      "4             poor    4870   567.397727\n",
      "..             ...     ...          ...\n",
      "995           good    1736 -1304.958491\n",
      "996           good    3857   816.041509\n",
      "997           good     804 -2236.958491\n",
      "998           good    1845 -1195.958491\n",
      "999       critical    4576  1487.962457\n",
      "\n",
      "[1000 rows x 3 columns]\n"
     ]
    }
   ],
   "source": [
    "media_amount_por_credit_history = df.groupby('credit_history')['amount'].transform('mean')\n",
    "\n",
    "df['amount_diff'] = df['amount'] - media_amount_por_credit_history\n",
    "\n",
    "print(df[['credit_history', 'amount', 'amount_diff']])"
   ]
  },
  {
   "cell_type": "markdown",
   "metadata": {},
   "source": [
    "7. **Quantidade de dependentes por tipo de conta bancária (`groupby` e `agg`):**  \n",
    "   Agrupe os dados pela coluna `checking_balance` e calcule:\n",
    "   - A soma total de `dependents`;\n",
    "   - O número médio de dependentes por categoria de conta bancária."
   ]
  },
  {
   "cell_type": "code",
   "execution_count": 18,
   "metadata": {},
   "outputs": [
    {
     "name": "stdout",
     "output_type": "stream",
     "text": [
      "  checking_balance  total_dependentes  media_dependentes\n",
      "0       1 - 200 DM                300           1.115242\n",
      "1           < 0 DM                326           1.189781\n",
      "2         > 200 DM                 72           1.142857\n",
      "3          unknown                457           1.159898\n"
     ]
    }
   ],
   "source": [
    "estats_categoria_dependentes = df.groupby('checking_balance')['dependents'].agg(total_dependentes='sum', media_dependentes='mean').reset_index()\n",
    "\n",
    "print(estats_categoria_dependentes)"
   ]
  }
 ],
 "metadata": {
  "colab": {
   "provenance": []
  },
  "kernelspec": {
   "display_name": "base",
   "language": "python",
   "name": "python3"
  },
  "language_info": {
   "codemirror_mode": {
    "name": "ipython",
    "version": 3
   },
   "file_extension": ".py",
   "mimetype": "text/x-python",
   "name": "python",
   "nbconvert_exporter": "python",
   "pygments_lexer": "ipython3",
   "version": "3.12.4"
  }
 },
 "nbformat": 4,
 "nbformat_minor": 0
}
