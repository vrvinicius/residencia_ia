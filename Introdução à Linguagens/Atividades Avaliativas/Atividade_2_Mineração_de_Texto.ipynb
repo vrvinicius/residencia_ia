{
 "cells": [
  {
   "cell_type": "markdown",
   "metadata": {
    "id": "_UB4Al1_bo7S"
   },
   "source": [
    "Considere o artigo:\n",
    "```python\n",
    "Bloice, M.D., Holzinger, A. (2016). A Tutorial on Machine Learning and Data Science Tools with Python.\n",
    "```\n",
    "In: Holzinger, A. (eds) Machine Learning for Health Informatics.<br> Lecture Notes in Computer Science(), vol 9605. Springer, Cham. <br>https://doi.org/10.1007/978-3-319-50478-0_22\n",
    "\n"
   ]
  },
  {
   "cell_type": "markdown",
   "metadata": {
    "id": "QFMnFkBTdFWP"
   },
   "source": [
    "Utilizando as bibliotecas `PyMuPDF` e `Regex`, faça a extração do texto e apresente todas as **URLs** presentes no artigo."
   ]
  },
  {
   "cell_type": "markdown",
   "metadata": {
    "id": "imQqn0MR1yMy"
   },
   "source": [
    "Acesso ao Formulário para envio do código:\n",
    "* https://forms.gle/D54GFxjB8s6ZqkPo9"
   ]
  },
  {
   "cell_type": "markdown",
   "metadata": {},
   "source": [
    "### Solução"
   ]
  },
  {
   "cell_type": "code",
   "execution_count": 20,
   "metadata": {},
   "outputs": [
    {
     "name": "stdout",
     "output_type": "stream",
     "text": [
      "https://github.com/mdbloice/MLDS\n",
      "http://topepo.github.io/caret/index.html.\n",
      "https://www.continuum.io/downloads\n",
      "https://www.continuum.io/downloads.\n",
      "http://localhost:8888/).\n",
      "http://mathesaurus.sourceforge.net/matlab-numpy.html.\n",
      "http://www.scipy-lectures.org/\n",
      "http://pandas.pydata.org/pandas-docs/stable/missing\n",
      "http://www.scipy-lectures.org/.\n",
      "http://pandas.\n",
      "http://scikit-learn.org/stable/documentation.html.\n",
      "https://twitter.com/fchollet/status/\n",
      "http://torch.ch/docs/getting-started.html\n",
      "https://www.tensor\n",
      "http://www.cancer.gov)/Indiana\n",
      "https://visualsonline.cancer.gov/details.cfm?\n",
      "http://augmentor.readthedocs.io.\n",
      "http://augmentorjl.readthedocs.io.\n",
      "http://cacm.acm.org/blogs/blog-cacm/176450-\n"
     ]
    }
   ],
   "source": [
    "import pymupdf\n",
    "import re\n",
    "\n",
    "# Caminho do arquivo\n",
    "pdf_path = (r'C:\\Users\\vinicius_vieira\\OneDrive - Sicredi\\Residência IA\\Introdução à Linguagens\\Atividades Avaliativas\\data\\artigoAtividade2.pdf')\n",
    "\n",
    "# Abrindo o arquivo\n",
    "doc = pymupdf.open(pdf_path)\n",
    "\n",
    "# Passar pelas páginas e extrair texto do PDF\n",
    "text = \"\"\n",
    "for page_num in range(len(doc)):\n",
    "    page = doc.load_page(page_num)\n",
    "    text += page.get_text()\n",
    "\n",
    "# Expressão regular para identificar as URLs\n",
    "url_pattern = re.compile(\n",
    "    r'http[s]?://'  # Captura http e https\n",
    "    r'(?:[a-zA-Z]|[0-9]|[$-_@.&+]|[!*\\\\(\\\\),]|\\n'  # Captura caracteres alfanuméricos e especiais\n",
    "    r'(?:%[0-9a-fA-F][0-9a-fA-F]))+'  # Captura caracteres codificados em URL\n",
    ")\n",
    "\n",
    "# Encontrar todas as URLs no texto\n",
    "urls = re.findall(url_pattern, text)\n",
    "\n",
    "# Exibir as URLs identificadas\n",
    "for url in urls:\n",
    "    print(url)"
   ]
  },
  {
   "cell_type": "code",
   "execution_count": null,
   "metadata": {},
   "outputs": [],
   "source": []
  }
 ],
 "metadata": {
  "colab": {
   "provenance": []
  },
  "kernelspec": {
   "display_name": "base",
   "language": "python",
   "name": "python3"
  },
  "language_info": {
   "codemirror_mode": {
    "name": "ipython",
    "version": 3
   },
   "file_extension": ".py",
   "mimetype": "text/x-python",
   "name": "python",
   "nbconvert_exporter": "python",
   "pygments_lexer": "ipython3",
   "version": "3.12.4"
  }
 },
 "nbformat": 4,
 "nbformat_minor": 0
}
