{
 "cells": [
  {
   "cell_type": "code",
   "execution_count": null,
   "metadata": {},
   "outputs": [],
   "source": []
  },
  {
   "cell_type": "markdown",
   "metadata": {},
   "source": [
    "# *args e **kwargs"
   ]
  },
  {
   "cell_type": "markdown",
   "metadata": {},
   "source": [
    "## Parametros posicionais nomeados"
   ]
  },
  {
   "cell_type": "code",
   "execution_count": 2,
   "metadata": {},
   "outputs": [
    {
     "name": "stdout",
     "output_type": "stream",
     "text": [
      "Tipo: <class 'tuple'>\n",
      "Quantidade: 3\n",
      "26\n",
      "Tipo: <class 'tuple'>\n",
      "Quantidade: 2\n",
      "4\n",
      "Tipo: <class 'tuple'>\n",
      "Quantidade: 4\n",
      "77\n"
     ]
    }
   ],
   "source": [
    "def soma(*args):\n",
    "    print(f'Tipo: {type(args)}')\n",
    "    print(f'Quantidade: {len(args)}')\n",
    "    return sum(args)\n",
    "\n",
    "print(soma(1,22,3))\n",
    "print(soma(1,3))\n",
    "print(soma(1,4,5,67))"
   ]
  },
  {
   "cell_type": "code",
   "execution_count": 11,
   "metadata": {},
   "outputs": [
    {
     "name": "stdout",
     "output_type": "stream",
     "text": [
      "nome Ana\n",
      "idade 30\n",
      "cidade Londrina\n",
      "----------\n",
      "aluno Joao\n",
      "disciplina Matemática\n",
      "nota 90\n",
      "----------\n",
      "categoria Eletrônico\n",
      "item Notebook\n"
     ]
    }
   ],
   "source": [
    "def exibir_informacoes(**kwargs):\n",
    "    for chave,valor in kwargs.items():\n",
    "        print(chave,valor)\n",
    "\n",
    "exibir_informacoes(nome='Ana',idade=30,cidade='Londrina')\n",
    "\n",
    "print('----------')\n",
    "\n",
    "exibir_informacoes(aluno='Joao',disciplina='Matemática',nota=90)\n",
    "\n",
    "print('----------')\n",
    "\n",
    "exibir_informacoes(categoria='Eletrônico',item='Notebook')"
   ]
  },
  {
   "cell_type": "code",
   "execution_count": 19,
   "metadata": {},
   "outputs": [
    {
     "name": "stdout",
     "output_type": "stream",
     "text": [
      "args: (2, 3)\n",
      "kwargs: {'categoria': 'Eletrônico', 'item': 'Notebook'}\n"
     ]
    }
   ],
   "source": [
    "# Combinação de *args e **kwargs\n",
    "\n",
    "def exibir_info(cidade='Toledo',*args,**kwargs):\n",
    "    print(f'args: {args}')\n",
    "    print(f'kwargs: {kwargs}')\n",
    "\n",
    "exibir_info(1,2,3,categoria='Eletrônico',item='Notebook')"
   ]
  },
  {
   "cell_type": "markdown",
   "metadata": {},
   "source": [
    "#### Exercícios"
   ]
  },
  {
   "cell_type": "code",
   "execution_count": 3,
   "metadata": {},
   "outputs": [
    {
     "name": "stdout",
     "output_type": "stream",
     "text": [
      "3\n"
     ]
    }
   ],
   "source": [
    "# soma de números com *args\n",
    "\n",
    "def soma(*args):\n",
    "    return sum(args)\n",
    "\n",
    "print(soma(1,2))"
   ]
  },
  {
   "cell_type": "code",
   "execution_count": 5,
   "metadata": {},
   "outputs": [],
   "source": [
    "# filtrar palavras\n",
    "\n",
    "def filtro_palavras(*args, **kwargs):\n",
    "    remPalavras = kwargs.get('excluir',[])\n",
    "    # palavrasFinal = [palavra for palavra in args if palavra not in remPalavras]\n",
    "    # return palavrasFinal\n",
    "    return [palavra for palavra in args if palavra not in remPalavras]\n",
    "\n"
   ]
  },
  {
   "cell_type": "code",
   "execution_count": 7,
   "metadata": {},
   "outputs": [
    {
     "name": "stdout",
     "output_type": "stream",
     "text": [
      "['banana', 'maça', 'londrina', 'unioeste', 'senai']\n"
     ]
    }
   ],
   "source": [
    "filtro = filtro_palavras('banana', 'maça', 'londrina', 'unioeste', 'senai', excluir=['sEnai'])\n",
    "print(filtro)"
   ]
  },
  {
   "cell_type": "code",
   "execution_count": 8,
   "metadata": {},
   "outputs": [],
   "source": [
    "def detalhes_pedidos(*args, **kwargs):\n",
    "    print('Pedido: ')\n",
    "    for item in args:\n",
    "        print(f'Item: {item}')\n",
    "\n",
    "    print('Informações do Cliente: ')\n",
    "    for chave,valor in kwargs.items():\n",
    "        print(f'{chave}: {valor}')"
   ]
  },
  {
   "cell_type": "code",
   "execution_count": 9,
   "metadata": {},
   "outputs": [
    {
     "name": "stdout",
     "output_type": "stream",
     "text": [
      "Pedido: \n",
      "Item: Burguer\n",
      "Item: Batata Grande\n",
      "Item: Coca Zero\n",
      "Informações do Cliente: \n",
      "cliente: Vinícius\n",
      "endereco: Rua XYZ\n",
      "telefone: 9999-0000\n"
     ]
    }
   ],
   "source": [
    "detalhes_pedidos('Burguer', 'Batata Grande','Coca Zero', cliente='Vinícius', endereco='Rua XYZ', telefone='9999-0000')"
   ]
  },
  {
   "cell_type": "code",
   "execution_count": 11,
   "metadata": {},
   "outputs": [
    {
     "name": "stdout",
     "output_type": "stream",
     "text": [
      "Pedido: \n",
      "Item: Burguer\n",
      "Item: Batata Grande\n",
      "Item: Coca Zero\n",
      "Informações do Cliente: \n"
     ]
    }
   ],
   "source": [
    "detalhes_pedidos('Burguer', 'Batata Grande','Coca Zero')"
   ]
  }
 ],
 "metadata": {
  "kernelspec": {
   "display_name": "base",
   "language": "python",
   "name": "python3"
  },
  "language_info": {
   "codemirror_mode": {
    "name": "ipython",
    "version": 3
   },
   "file_extension": ".py",
   "mimetype": "text/x-python",
   "name": "python",
   "nbconvert_exporter": "python",
   "pygments_lexer": "ipython3",
   "version": "3.12.4"
  }
 },
 "nbformat": 4,
 "nbformat_minor": 2
}
