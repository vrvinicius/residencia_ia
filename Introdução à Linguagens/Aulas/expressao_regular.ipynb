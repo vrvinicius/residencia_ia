{
 "cells": [
  {
   "cell_type": "code",
   "execution_count": 2,
   "metadata": {},
   "outputs": [],
   "source": [
    "import re"
   ]
  },
  {
   "cell_type": "code",
   "execution_count": 7,
   "metadata": {},
   "outputs": [
    {
     "name": "stdout",
     "output_type": "stream",
     "text": [
      "Palavra encontrada: Python\n"
     ]
    }
   ],
   "source": [
    "texto = \"A linguagem Python é muito poderosa e possui vários recursos interessantes\"\n",
    "match = re.search('Python', texto)\n",
    "\n",
    "if match:\n",
    "    print(f'Palavra encontrada: {match.group()}')\n",
    "else:\n",
    "    print('Palavra não encontrada')"
   ]
  },
  {
   "cell_type": "code",
   "execution_count": 8,
   "metadata": {},
   "outputs": [
    {
     "data": {
      "text/plain": [
       "'3.13'"
      ]
     },
     "execution_count": 8,
     "metadata": {},
     "output_type": "execute_result"
    }
   ],
   "source": [
    "texto = \"A linguagem Python está na versão 3.13\"\n",
    "match = re.search(r'\\d.\\d+', texto)\n",
    "match.group()"
   ]
  },
  {
   "cell_type": "code",
   "execution_count": 9,
   "metadata": {},
   "outputs": [
    {
     "name": "stdout",
     "output_type": "stream",
     "text": [
      "['ABV-1212', 'XYZ-9999']\n"
     ]
    }
   ],
   "source": [
    "# encontrando múltiplos resultados\n",
    "\n",
    "texto = \"O carro vermelho possui a placa ABV-1212 e o carro branco possui placa XYZ-9999\"\n",
    "\n",
    "retorno = re.findall(r'[A-Z]{3}-[0-9]{4}', texto)\n",
    "print(retorno)"
   ]
  },
  {
   "cell_type": "code",
   "execution_count": 10,
   "metadata": {},
   "outputs": [
    {
     "data": {
      "text/plain": [
       "'O telefone do usuário é ****-9999'"
      ]
     },
     "execution_count": 10,
     "metadata": {},
     "output_type": "execute_result"
    }
   ],
   "source": [
    "# substituindo padrões\n",
    "\n",
    "texto = \"O telefone do usuário é 9999-9999\"\n",
    "\n",
    "# novo_texto = re.sub(r'[0-9]{4}-[0-9]{4}', '####-####', texto)\n",
    "\n",
    "# novo_texto = re.sub(r'\\d{2}-[0-9]{2}','**-**', texto)\n",
    "\n",
    "novo_texto = re.sub(r'\\d{4}\\-','****-', texto)\n",
    "\n",
    "novo_texto"
   ]
  },
  {
   "cell_type": "code",
   "execution_count": 11,
   "metadata": {},
   "outputs": [
    {
     "name": "stdout",
     "output_type": "stream",
     "text": [
      "['Londrina', 'Futebol', 'Café']\n"
     ]
    }
   ],
   "source": [
    "# dividindo strings com re.split()\n",
    "\n",
    "texto = 'Londrina;Futebol;Café'\n",
    "\n",
    "palavras = re.split(r';', texto)\n",
    "\n",
    "print(palavras)"
   ]
  },
  {
   "cell_type": "code",
   "execution_count": 20,
   "metadata": {},
   "outputs": [
    {
     "data": {
      "text/plain": [
       "['meuemail@exemplo.com', 'emailvinicius@dominio.org', 'teste@unioeste.edu.br']"
      ]
     },
     "execution_count": 20,
     "metadata": {},
     "output_type": "execute_result"
    }
   ],
   "source": [
    "# exemplos avancados: validação de emails\n",
    "\n",
    "emails = \"Exemplos de emails: meuemail@exemplo.com e emailvinicius@dominio.org e teste@unioeste.edu.br\"\n",
    "\n",
    "filtro = re.findall(r'[a-zA-Z0-9_%+-.]+@[a-zA-Z0-9.]+\\.[a-zA-Z]+', emails)\n",
    "filtro"
   ]
  },
  {
   "cell_type": "markdown",
   "metadata": {},
   "source": [
    "#### Exercícios"
   ]
  },
  {
   "cell_type": "code",
   "execution_count": 30,
   "metadata": {},
   "outputs": [
    {
     "name": "stdout",
     "output_type": "stream",
     "text": [
      "(043)9999-9999\n"
     ]
    }
   ],
   "source": [
    "# validar um número de telefone\n",
    "\n",
    "telefone = '(043)9999-9999'\n",
    "\n",
    "padrao = re.search(r'\\(\\d{3}\\)\\d{4,5}-\\d{4}', telefone)\n",
    "\n",
    "print(padrao.group())"
   ]
  },
  {
   "cell_type": "code",
   "execution_count": 5,
   "metadata": {},
   "outputs": [
    {
     "name": "stdout",
     "output_type": "stream",
     "text": [
      "['(043) 8888-8888', '(045) 99999-9999']\n"
     ]
    }
   ],
   "source": [
    "# validar um número de telefone\n",
    "\n",
    "telefones = 'Números de telefones: (043) 9999-9999999, (043) 8888-8888 e (045) 99999-9999'\n",
    "\n",
    "lista_tels = re.findall(r'\\(\\d{3}\\)\\s?\\d{4,5}-\\d{4}\\b', telefones) #\\b no final para validar a quantidade de dígitos\n",
    "\n",
    "print(lista_tels)"
   ]
  },
  {
   "cell_type": "markdown",
   "metadata": {},
   "source": [
    "## Encontrara datas no formato DD/MM/AAAA"
   ]
  },
  {
   "cell_type": "code",
   "execution_count": 7,
   "metadata": {},
   "outputs": [
    {
     "data": {
      "text/plain": [
       "['25/12/2023', '01/01/2024', '15/04/1986']"
      ]
     },
     "execution_count": 7,
     "metadata": {},
     "output_type": "execute_result"
    }
   ],
   "source": [
    "texto = \"As datas importantes destacadas foram: 25/12/2023, 01/01/2024 e 15/04/1986\"\n",
    "\n",
    "datas = re.findall(r'\\d{2}/\\d{2}/\\d{4}\\b', texto)\n",
    "\n",
    "datas"
   ]
  },
  {
   "cell_type": "code",
   "execution_count": 12,
   "metadata": {},
   "outputs": [
    {
     "data": {
      "text/plain": [
       "'O telefone é (###) #####-#### e o número do meu apartamento é ###'"
      ]
     },
     "execution_count": 12,
     "metadata": {},
     "output_type": "execute_result"
    }
   ],
   "source": [
    "#substituir números de uma string\n",
    "\n",
    "texto = \"O telefone é (043) 99998-5498 e o número do meu apartamento é 305\"\n",
    "\n",
    "novo_texto = re.sub(r'[0-9]','#', texto)\n",
    "\n",
    "novo_texto"
   ]
  },
  {
   "cell_type": "code",
   "execution_count": 16,
   "metadata": {},
   "outputs": [
    {
     "data": {
      "text/plain": [
       "['#python', '#datascience', '#ia']"
      ]
     },
     "execution_count": 16,
     "metadata": {},
     "output_type": "execute_result"
    }
   ],
   "source": [
    "#extrair hastags de um texto\n",
    "\n",
    "texto = \"#python é muito massa e muito utilizada para #datascience e #ia\"\n",
    "\n",
    "palavras = re.findall(r'#\\w+', texto)\n",
    "\n",
    "palavras"
   ]
  },
  {
   "cell_type": "code",
   "execution_count": 30,
   "metadata": {},
   "outputs": [
    {
     "name": "stdout",
     "output_type": "stream",
     "text": [
      "CEP válido\n"
     ]
    }
   ],
   "source": [
    "# verificar um cep brasileiro válido\n",
    "\n",
    "#exemplo 1\n",
    "if re.match(r'\\d{5}-?\\d{3}$','85915030'):\n",
    "    print(\"CEP válido\")\n",
    "else:\n",
    "    print(\"CEP inválido\")"
   ]
  },
  {
   "cell_type": "code",
   "execution_count": null,
   "metadata": {},
   "outputs": [
    {
     "data": {
      "text/plain": [
       "'85915030'"
      ]
     },
     "execution_count": 41,
     "metadata": {},
     "output_type": "execute_result"
    }
   ],
   "source": [
    "#exemplo 2: valida uma única ocorrêncoa\n",
    "teste = re.search(r'\\b\\d{5}-?\\d{3}\\b', 'Meu CEP é 85915030')\n",
    "teste.group()"
   ]
  },
  {
   "cell_type": "code",
   "execution_count": null,
   "metadata": {},
   "outputs": [
    {
     "data": {
      "text/plain": [
       "['85915-030', '06694-380']"
      ]
     },
     "execution_count": 46,
     "metadata": {},
     "output_type": "execute_result"
    }
   ],
   "source": [
    "#exemplo 3\n",
    "lista = re.findall(r'\\b\\d{5}-?\\d{3}\\b', 'Meu CEP é 85915-030. O da minha antiga casa é 06694-380')\n",
    "# para acentos [À-ÿ]\n",
    "\n",
    "lista"
   ]
  },
  {
   "cell_type": "code",
   "execution_count": 3,
   "metadata": {},
   "outputs": [
    {
     "data": {
      "text/plain": [
       "['O', 'EVENTO', 'OUTUBRO', 'SP']"
      ]
     },
     "execution_count": 3,
     "metadata": {},
     "output_type": "execute_result"
    }
   ],
   "source": [
    "#extrair palavras com letras maisculas\n",
    "\n",
    "texto = \"O EVENTO será no dia 12 de OUTUBRO em SP\"\n",
    "\n",
    "palavras = re.findall(r'\\b[A-Z]+\\b', texto)\n",
    "\n",
    "palavras"
   ]
  },
  {
   "cell_type": "code",
   "execution_count": 16,
   "metadata": {},
   "outputs": [
    {
     "data": {
      "text/plain": [
       "['Este é um teste.',\n",
       " ' Vamos verificar, caso funcione, se essa expressão regular funciona.']"
      ]
     },
     "execution_count": 16,
     "metadata": {},
     "output_type": "execute_result"
    }
   ],
   "source": [
    "#frases que terminam com um ponto final\n",
    "\n",
    "texto = \"Este é um teste. Vamos verificar, caso funcione, se essa expressão regular funciona.\"\n",
    "\n",
    "frases = re.findall(r'[A-Za-zà-ÿ\\s,-/]+?\\.', texto)\n",
    "\n",
    "frases"
   ]
  },
  {
   "cell_type": "code",
   "execution_count": 17,
   "metadata": {},
   "outputs": [
    {
     "data": {
      "text/plain": [
       "2"
      ]
     },
     "execution_count": 17,
     "metadata": {},
     "output_type": "execute_result"
    }
   ],
   "source": [
    "len(frases)"
   ]
  },
  {
   "cell_type": "code",
   "execution_count": 24,
   "metadata": {},
   "outputs": [
    {
     "name": "stdout",
     "output_type": "stream",
     "text": [
      "True\n",
      "True\n",
      "False\n"
     ]
    }
   ],
   "source": [
    "#validar placas de veículos nos formatos ABC-1234 e ACD1D23\n",
    "\n",
    "def validar_placa(placa):\n",
    "    return bool(re.match(r'^[A-Z]{3}(-\\d{4}|\\d[A-Z]\\d{2})$', placa))\n",
    "\n",
    "print(validar_placa(\"ABC-1234\"))\n",
    "print(validar_placa(\"DSY4H38\"))\n",
    "print(validar_placa(\"DSY4738\"))"
   ]
  },
  {
   "cell_type": "code",
   "execution_count": null,
   "metadata": {},
   "outputs": [],
   "source": []
  }
 ],
 "metadata": {
  "kernelspec": {
   "display_name": "Python 3",
   "language": "python",
   "name": "python3"
  },
  "language_info": {
   "codemirror_mode": {
    "name": "ipython",
    "version": 3
   },
   "file_extension": ".py",
   "mimetype": "text/x-python",
   "name": "python",
   "nbconvert_exporter": "python",
   "pygments_lexer": "ipython3",
   "version": "3.12.4"
  }
 },
 "nbformat": 4,
 "nbformat_minor": 2
}
