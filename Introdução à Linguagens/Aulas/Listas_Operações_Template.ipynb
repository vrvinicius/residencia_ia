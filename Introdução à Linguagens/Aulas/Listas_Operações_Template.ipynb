{
  "nbformat": 4,
  "nbformat_minor": 0,
  "metadata": {
    "colab": {
      "provenance": []
    },
    "kernelspec": {
      "name": "python3",
      "display_name": "Python 3"
    },
    "language_info": {
      "name": "python"
    }
  },
  "cells": [
    {
      "cell_type": "markdown",
      "source": [
        "### Conceito de iteráveis e iteradores:\n",
        "\n",
        "**Iteráveis** e **iterators** são conceitos centrais na iteração em Python. Aqui está uma breve explicação:\n",
        "\n",
        "### **Iteráveis**:\n",
        "- Um **iterável** é qualquer objeto que pode ser percorrido em um loop, como listas, tuplas, conjuntos, dicionários e strings.\n",
        "- Para ser iterável, um objeto deve implementar o método especial `__iter__()`, que retorna um **iterator**.\n",
        "- Exemplo de iteráveis: listas, strings, dicionários.\n",
        "\n",
        "\n",
        "### **Iterators**:\n",
        "- Um **iterator** é um objeto que permite acessar os elementos de um iterável, um por um, usando o método `__next__()`.\n",
        "- Os iterators não armazenam todos os elementos de uma vez na memória; eles geram cada valor conforme a iteração.\n",
        "- Quando os itens acabam, o iterator levanta a exceção `StopIteration`.\n",
        "- Um iterator é retornado pelo método `iter()` aplicado a um iterável.\n",
        "\n",
        "### Resumo:\n",
        "- **Iteráveis**: são objetos que podem ser percorridos (como listas).\n",
        "- **Iterators**: são objetos que fazem a iteração acontecer, retornando os valores um a um."
      ],
      "metadata": {
        "id": "XzpFHrZ_-EN2"
      }
    },
    {
      "cell_type": "markdown",
      "source": [
        "### **Criar uma lista**"
      ],
      "metadata": {
        "id": "xLWM5f8KUn_u"
      }
    },
    {
      "cell_type": "code",
      "source": [
        "# lista:\n",
        "## mutável\n",
        "## híbrida (aceita diferentes tipos de dados internamente)\n",
        "\n",
        "# list x numpy array\n",
        "## Organização na memória"
      ],
      "metadata": {
        "id": "6MNPNYszUsG7"
      },
      "execution_count": null,
      "outputs": []
    },
    {
      "cell_type": "code",
      "source": [
        "lista = []\n",
        "type(lista)"
      ],
      "metadata": {
        "colab": {
          "base_uri": "https://localhost:8080/"
        },
        "id": "--ANgnniy-ir",
        "outputId": "c66b4595-cd28-494d-e4ce-e7ba77bee3ff"
      },
      "execution_count": null,
      "outputs": [
        {
          "output_type": "execute_result",
          "data": {
            "text/plain": [
              "list"
            ]
          },
          "metadata": {},
          "execution_count": 2
        }
      ]
    },
    {
      "cell_type": "code",
      "source": [
        "lista2 = list()"
      ],
      "metadata": {
        "id": "AEvMDkd0zGL4"
      },
      "execution_count": null,
      "outputs": []
    },
    {
      "cell_type": "code",
      "source": [
        "type(lista2)"
      ],
      "metadata": {
        "colab": {
          "base_uri": "https://localhost:8080/"
        },
        "id": "vnnyX4hOziiv",
        "outputId": "e8864877-3dad-4035-ebd0-fb29b6a165e3"
      },
      "execution_count": null,
      "outputs": [
        {
          "output_type": "execute_result",
          "data": {
            "text/plain": [
              "list"
            ]
          },
          "metadata": {},
          "execution_count": 7
        }
      ]
    },
    {
      "cell_type": "markdown",
      "source": [
        "### **Adicionar elementos à lista**\n",
        "- **Append**: Adiciona um elemento ao final da lista."
      ],
      "metadata": {
        "id": "9tAZVcnsU20t"
      }
    },
    {
      "cell_type": "code",
      "source": [
        "dir(list)"
      ],
      "metadata": {
        "id": "IuDK2gX0U8dz",
        "colab": {
          "base_uri": "https://localhost:8080/"
        },
        "outputId": "deaa4555-82e0-46a6-e7e2-992d13320fba"
      },
      "execution_count": null,
      "outputs": [
        {
          "output_type": "execute_result",
          "data": {
            "text/plain": [
              "['__add__',\n",
              " '__class__',\n",
              " '__class_getitem__',\n",
              " '__contains__',\n",
              " '__delattr__',\n",
              " '__delitem__',\n",
              " '__dir__',\n",
              " '__doc__',\n",
              " '__eq__',\n",
              " '__format__',\n",
              " '__ge__',\n",
              " '__getattribute__',\n",
              " '__getitem__',\n",
              " '__gt__',\n",
              " '__hash__',\n",
              " '__iadd__',\n",
              " '__imul__',\n",
              " '__init__',\n",
              " '__init_subclass__',\n",
              " '__iter__',\n",
              " '__le__',\n",
              " '__len__',\n",
              " '__lt__',\n",
              " '__mul__',\n",
              " '__ne__',\n",
              " '__new__',\n",
              " '__reduce__',\n",
              " '__reduce_ex__',\n",
              " '__repr__',\n",
              " '__reversed__',\n",
              " '__rmul__',\n",
              " '__setattr__',\n",
              " '__setitem__',\n",
              " '__sizeof__',\n",
              " '__str__',\n",
              " '__subclasshook__',\n",
              " 'append',\n",
              " 'clear',\n",
              " 'copy',\n",
              " 'count',\n",
              " 'extend',\n",
              " 'index',\n",
              " 'insert',\n",
              " 'pop',\n",
              " 'remove',\n",
              " 'reverse',\n",
              " 'sort']"
            ]
          },
          "metadata": {},
          "execution_count": 8
        }
      ]
    },
    {
      "cell_type": "markdown",
      "source": [
        "- **Extend**: Adiciona todos os elementos de uma lista ao final de outra.\n"
      ],
      "metadata": {
        "id": "9Pi-vtrkVA_8"
      }
    },
    {
      "cell_type": "code",
      "source": [],
      "metadata": {
        "id": "AyPjQE9oVFQa"
      },
      "execution_count": null,
      "outputs": []
    },
    {
      "cell_type": "markdown",
      "source": [
        "- **Insert**: Insere um elemento em uma posição específica."
      ],
      "metadata": {
        "id": "XffDNZbBVN_s"
      }
    },
    {
      "cell_type": "code",
      "source": [],
      "metadata": {
        "id": "1mN62O_iVNGM"
      },
      "execution_count": null,
      "outputs": []
    },
    {
      "cell_type": "markdown",
      "source": [
        "### **Remover elementos da lista**\n",
        "- **Remove**: Remove a primeira ocorrência de um valor específico."
      ],
      "metadata": {
        "id": "5XdcGcnXVYhr"
      }
    },
    {
      "cell_type": "code",
      "source": [],
      "metadata": {
        "id": "bwsSSBybVeup"
      },
      "execution_count": null,
      "outputs": []
    },
    {
      "cell_type": "markdown",
      "source": [
        "- **Pop**: Remove e retorna o elemento na posição especificada (ou o último se não for especificado)."
      ],
      "metadata": {
        "id": "eeAn648lVjc8"
      }
    },
    {
      "cell_type": "code",
      "source": [],
      "metadata": {
        "id": "lzgilNU-Vn-c"
      },
      "execution_count": null,
      "outputs": []
    },
    {
      "cell_type": "markdown",
      "source": [
        "### **Acessar elementos da lista**\n",
        "- Acessar elementos por índice:"
      ],
      "metadata": {
        "id": "McN_Ih0lVt7C"
      }
    },
    {
      "cell_type": "code",
      "source": [],
      "metadata": {
        "id": "bugF4skzVz1O"
      },
      "execution_count": null,
      "outputs": []
    },
    {
      "cell_type": "markdown",
      "source": [
        "- Acessar sublistas usando fatias:"
      ],
      "metadata": {
        "id": "GNFyIvVTV49S"
      }
    },
    {
      "cell_type": "code",
      "source": [],
      "metadata": {
        "id": "T7FtzUkIV8Gj"
      },
      "execution_count": null,
      "outputs": []
    },
    {
      "cell_type": "markdown",
      "source": [
        "### **Iterar sobre os elementos**"
      ],
      "metadata": {
        "id": "_vSNB0kAWA-5"
      }
    },
    {
      "cell_type": "code",
      "source": [],
      "metadata": {
        "id": "U5pdmx1QWFsY"
      },
      "execution_count": null,
      "outputs": []
    },
    {
      "cell_type": "markdown",
      "source": [
        "### **Verificar se um elemento está na lista**\n"
      ],
      "metadata": {
        "id": "p50ZuU96WK0u"
      }
    },
    {
      "cell_type": "code",
      "source": [],
      "metadata": {
        "id": "YICRFVT5WNXk"
      },
      "execution_count": null,
      "outputs": []
    },
    {
      "cell_type": "markdown",
      "source": [
        "### **Ordenar a lista**\n",
        "- **Sort**: Ordena a lista in-place.\n"
      ],
      "metadata": {
        "id": "rKpwbTqlWSfq"
      }
    },
    {
      "cell_type": "code",
      "source": [],
      "metadata": {
        "id": "xbGifbzLWU4h"
      },
      "execution_count": null,
      "outputs": []
    },
    {
      "cell_type": "markdown",
      "source": [
        "- **Sorted**: Retorna uma nova lista ordenada.\n"
      ],
      "metadata": {
        "id": "zWcRAtjOWZU9"
      }
    },
    {
      "cell_type": "code",
      "source": [],
      "metadata": {
        "id": "eY0OO-TFWcqB"
      },
      "execution_count": null,
      "outputs": []
    },
    {
      "cell_type": "markdown",
      "source": [
        "### **Obter o comprimento da lista**\n"
      ],
      "metadata": {
        "id": "uBKCcyfsWgZn"
      }
    },
    {
      "cell_type": "code",
      "source": [],
      "metadata": {
        "id": "YUKmnGI8Wix4"
      },
      "execution_count": null,
      "outputs": []
    },
    {
      "cell_type": "markdown",
      "source": [
        "### **Concatenar listas**"
      ],
      "metadata": {
        "id": "MhTiSd5FWomK"
      }
    },
    {
      "cell_type": "code",
      "source": [],
      "metadata": {
        "id": "ZBjWj-riWsrV"
      },
      "execution_count": null,
      "outputs": []
    },
    {
      "cell_type": "markdown",
      "source": [
        "### **Reverter a lista**\n"
      ],
      "metadata": {
        "id": "HDv6nvFiWyUH"
      }
    },
    {
      "cell_type": "code",
      "source": [],
      "metadata": {
        "id": "SOZJktGNW1ZO"
      },
      "execution_count": null,
      "outputs": []
    },
    {
      "cell_type": "markdown",
      "source": [
        "### **Copiar uma lista**\n",
        "- Usando o método `copy()`:"
      ],
      "metadata": {
        "id": "n67l8hWrXB2A"
      }
    },
    {
      "cell_type": "code",
      "source": [],
      "metadata": {
        "id": "GUlnq2gtXFzS"
      },
      "execution_count": null,
      "outputs": []
    },
    {
      "cell_type": "markdown",
      "source": [
        "### **List Comprehensions (Compreensões de lista)**\n",
        "\n",
        "### **List Comprehensions (Compreensões de lista)**\n",
        "\n",
        "A **list comprehension** é uma maneira de criar listas a partir de iteráveis, aplicando uma expressão ou transformação a cada item da sequência. Ela permite gerar listas de forma mais compacta do que usando laços `for` tradicionais, combinando loops e condicionais em uma única linha.\n",
        "\n",
        "### Sintaxe básica:\n",
        "```python\n",
        "[expressão for item in obj_iterável]\n",
        "```\n",
        "- **expressão**: Pode ser o próprio item ou uma transformação aplicada ao item.\n",
        "- **for item in iterável**: Representa o loop sobre o iterável.\n",
        "\n",
        "\n"
      ],
      "metadata": {
        "id": "ApNZiy8bW5J5"
      }
    },
    {
      "cell_type": "code",
      "source": [],
      "metadata": {
        "id": "RNJqJT5mW9qR"
      },
      "execution_count": null,
      "outputs": []
    },
    {
      "cell_type": "markdown",
      "source": [
        "## List Comprehensions e Generators\n",
        "\n",
        "Em Python, tanto **list comprehensions** quanto **generators** são maneiras eficientes de criar iteráveis, mas há diferenças significativas entre os dois em termos de **memória**.\n",
        "\n",
        "### Diferenças principais:\n",
        "\n",
        "1. **Avaliação**:\n",
        "   - **Compreensão de listas**: Avalia e armazena **todos os itens na memória de uma vez**, criando uma lista completa.\n",
        "   - **Generators**: Avalia os itens **sob demanda** (lazy evaluation), ou seja, os itens são gerados um de cada vez, conforme necessário.\n",
        "\n",
        "2. **Uso de memória**:\n",
        "   - **Compreensão de listas**: Pode ser ineficiente se o conjunto de dados for muito grande, pois mantém todos os itens na memória.\n",
        "   - **Generators**: Usa menos memória, já que gera os itens conforme a iteração avança, sem armazenar todos os elementos de uma vez.\n",
        "\n",
        "3. **Retorno**:\n",
        "   - **Compreensão de listas**: Retorna uma **lista**.\n",
        "   - **Generators**: Retorna um **objeto generator**, que pode ser iterado, mas não é uma lista diretamente.\n",
        "\n",
        "4. **Sintaxe**:\n",
        "   - **Compreensão de listas**: Usa colchetes `[]`.\n",
        "   - **Generators**: Usa parênteses `()`."
      ],
      "metadata": {
        "id": "rGfYcOt2-QtG"
      }
    }
  ]
}