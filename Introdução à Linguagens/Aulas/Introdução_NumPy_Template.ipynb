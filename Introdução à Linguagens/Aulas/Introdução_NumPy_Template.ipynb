{
 "cells": [
  {
   "cell_type": "markdown",
   "id": "f34505b5",
   "metadata": {
    "id": "f34505b5"
   },
   "source": [
    "# Biblioteca NumPy:\n",
    "\n",
    "- Funções: https://numpy.org/doc/2.1/reference/routines.math.html\n",
    "\n",
    "### Estrutura de Memória\n",
    "- **Listas do Python**: Estrutura baseada em **array dinâmico** que armazena referências no heap.\n",
    "- **NumPy Arrays**: Dados contíguos na memória, acessados por aritmética de ponteiros.\n"
   ]
  },
  {
   "cell_type": "code",
   "execution_count": 1,
   "id": "25655bf7",
   "metadata": {
    "id": "25655bf7"
   },
   "outputs": [],
   "source": [
    "\n",
    "# Importando a biblioteca\n",
    "import numpy as np\n"
   ]
  },
  {
   "cell_type": "markdown",
   "id": "NDwqCQszQNhJ",
   "metadata": {
    "id": "NDwqCQszQNhJ"
   },
   "source": [
    "### Formas de inicialização\n"
   ]
  },
  {
   "cell_type": "code",
   "execution_count": 4,
   "id": "De3PgxcWQY0N",
   "metadata": {
    "id": "De3PgxcWQY0N"
   },
   "outputs": [
    {
     "name": "stdout",
     "output_type": "stream",
     "text": [
      "[1 2 3 4]\n"
     ]
    },
    {
     "data": {
      "text/plain": [
       "numpy.ndarray"
      ]
     },
     "execution_count": 4,
     "metadata": {},
     "output_type": "execute_result"
    }
   ],
   "source": [
    "# Criar um array com diferentes métodos\n",
    "## a partir de uma lista\n",
    "array_list = np.array([1,2,3,4])\n",
    "print(array_list)\n",
    "type(array_list)"
   ]
  },
  {
   "cell_type": "code",
   "execution_count": 5,
   "id": "b1ed070e",
   "metadata": {},
   "outputs": [
    {
     "name": "stdout",
     "output_type": "stream",
     "text": [
      "[1. 2. 3. 4.]\n"
     ]
    }
   ],
   "source": [
    "#especificar o tipo de dado\n",
    "array_float = np.array([1,2,3,4], dtype= float)\n",
    "print(array_float)"
   ]
  },
  {
   "cell_type": "code",
   "execution_count": 7,
   "id": "9668f44f",
   "metadata": {},
   "outputs": [
    {
     "name": "stdout",
     "output_type": "stream",
     "text": [
      "[0. 0. 0. 0. 0.]\n",
      "[1. 1. 1. 1. 1.]\n",
      "[7 7 7 7 7]\n"
     ]
    }
   ],
   "source": [
    "# gerar com valores constantes\n",
    "# zeros\n",
    "array_zeros = np.zeros(5)\n",
    "print(array_zeros)\n",
    "\n",
    "#uns\n",
    "array_uns = np.ones(5)\n",
    "print(array_uns)\n",
    "\n",
    "# genérico para qualquer valor\n",
    "array_generic = np.full(5,7)\n",
    "print(array_generic)"
   ]
  },
  {
   "cell_type": "code",
   "execution_count": 8,
   "id": "e7f7a41e",
   "metadata": {},
   "outputs": [
    {
     "name": "stdout",
     "output_type": "stream",
     "text": [
      "[0 1 2 3 4 5 6 7 8 9]\n"
     ]
    }
   ],
   "source": [
    "#gerar um array no formato de sequência\n",
    "array_seq = np.arange(10)\n",
    "print(array_seq)"
   ]
  },
  {
   "cell_type": "code",
   "execution_count": null,
   "id": "3a3dd1b7",
   "metadata": {},
   "outputs": [
    {
     "name": "stdout",
     "output_type": "stream",
     "text": [
      "[0.25792284 0.95292247 0.2842116  0.16944869 0.2935682 ]\n",
      "[8 2 2 3 0]\n",
      "[-0.50555686 -1.74220897  0.44846766  1.06460286  0.51293775]\n",
      "[50 30 50 50 50]\n"
     ]
    }
   ],
   "source": [
    "# gerar números aleatórios\n",
    "## random.rand (continuos)\n",
    "## random.radint (inteiros)\n",
    "## random.randn (distribuição normal)\n",
    "## random.choice (gera repetições aleatórias a partir de uma lista)\n",
    "\n",
    "print(np.random.rand(5))\n",
    "print(np.random.randint(0,10, size= 5)) #intervalo de 0 a 10 escolher 5 números\n",
    "print(np.random.randn(5))\n",
    "print(np.random.choice([20, 30, 40, 50], size= 5))"
   ]
  },
  {
   "cell_type": "markdown",
   "id": "d146f8bc",
   "metadata": {
    "id": "d146f8bc"
   },
   "source": [
    "## Operações com NumPy"
   ]
  },
  {
   "cell_type": "markdown",
   "id": "4084bd34",
   "metadata": {
    "id": "4084bd34"
   },
   "source": [
    "### Estatísticas com NumPy"
   ]
  },
  {
   "cell_type": "code",
   "execution_count": 14,
   "id": "287b80e4",
   "metadata": {
    "id": "287b80e4"
   },
   "outputs": [
    {
     "name": "stdout",
     "output_type": "stream",
     "text": [
      "[14 35  8 99 17  0  0 85 59 74]\n",
      "Média: 39.1\n",
      "Desvio Padrão: 35.31132962662267\n",
      "Variância: 1246.8899999999999\n"
     ]
    }
   ],
   "source": [
    "\n",
    "# Gerar um array aleatório com 20 números e calcular média, desvio padrão e variância.\n",
    "array_exemplo = np.random.randint(0, 100, size= 10)\n",
    "print(array_exemplo)\n",
    "print(f'Média: {np.mean(array_exemplo)}')\n",
    "print(f'Desvio Padrão: {np.std(array_exemplo)}')\n",
    "print(f'Variância: {np.var(array_exemplo)}')"
   ]
  },
  {
   "cell_type": "markdown",
   "id": "2fc2f06e",
   "metadata": {
    "id": "2fc2f06e"
   },
   "source": [
    "### Operações aritméticas ou lógicas entre arrays"
   ]
  },
  {
   "cell_type": "code",
   "execution_count": 16,
   "id": "c45061c3",
   "metadata": {
    "id": "c45061c3"
   },
   "outputs": [
    {
     "name": "stdout",
     "output_type": "stream",
     "text": [
      "[0 1 2 3 4 5 6 7 8 9]\n",
      "[ 0 10 20 30 40 50 60 70 80 90]\n"
     ]
    }
   ],
   "source": [
    "\n",
    "# Multiplicar cada elemento de um array por um número escalar.\n",
    "array_int = np.arange(0,10)\n",
    "array_mult = array_int * 10\n",
    "print(array_int)\n",
    "print(array_mult)"
   ]
  },
  {
   "cell_type": "markdown",
   "id": "9cedeac8",
   "metadata": {
    "id": "9cedeac8"
   },
   "source": [
    "### Operações Condicionais"
   ]
  },
  {
   "cell_type": "code",
   "execution_count": 21,
   "id": "9f51de0e",
   "metadata": {
    "id": "9f51de0e"
   },
   "outputs": [
    {
     "name": "stdout",
     "output_type": "stream",
     "text": [
      "[ 1  3  9  2  1 14 12  7  6 11]\n",
      "[False False  True False False  True  True  True  True  True]\n",
      "[ 9 14 12  7  6 11]\n"
     ]
    }
   ],
   "source": [
    "\n",
    "# Criar um array de números e filtrar os valores maiores que 5.\n",
    "array_int = np.random.randint(0, 15, size= 10)\n",
    "filtro_array = array_int > 5\n",
    "print(array_int)\n",
    "print(filtro_array)\n",
    "print(array_int[filtro_array])"
   ]
  },
  {
   "cell_type": "code",
   "execution_count": null,
   "id": "65afe280",
   "metadata": {},
   "outputs": [],
   "source": []
  }
 ],
 "metadata": {
  "colab": {
   "provenance": []
  },
  "kernelspec": {
   "display_name": "base",
   "language": "python",
   "name": "python3"
  },
  "language_info": {
   "codemirror_mode": {
    "name": "ipython",
    "version": 3
   },
   "file_extension": ".py",
   "mimetype": "text/x-python",
   "name": "python",
   "nbconvert_exporter": "python",
   "pygments_lexer": "ipython3",
   "version": "3.12.4"
  }
 },
 "nbformat": 4,
 "nbformat_minor": 5
}
