{
 "cells": [
  {
   "cell_type": "markdown",
   "metadata": {},
   "source": [
    "# Slicing\n",
    "Extrair partes expecíficas de uma string usando fatiamento"
   ]
  },
  {
   "cell_type": "code",
   "execution_count": 2,
   "metadata": {},
   "outputs": [
    {
     "name": "stdout",
     "output_type": "stream",
     "text": [
      "<class 'str'>\n"
     ]
    }
   ],
   "source": [
    "texto = \"Manipulação de strings em Python\"\n",
    "print(type(texto))"
   ]
  },
  {
   "cell_type": "code",
   "execution_count": 3,
   "metadata": {},
   "outputs": [
    {
     "name": "stdout",
     "output_type": "stream",
     "text": [
      "Manipulaçã\n",
      "Mnplçod tig mPto\n",
      " Python\n",
      "nohtyP me sgnirts ed oãçalupinaM\n",
      "Python\n"
     ]
    }
   ],
   "source": [
    "str1 = texto[0:10]\n",
    "str2 = texto[::2] #vai pegando de duas em duas letras\n",
    "str3 = texto[-7:] #com sinal negativo pega de traz pra frente\n",
    "str4 = texto[::-1] #formato espelhada (inverso)\n",
    "str5 = texto[-6:]\n",
    "\n",
    "print(str1)\n",
    "print(str2)\n",
    "print(str3)\n",
    "print(str4)\n",
    "print(str5)"
   ]
  },
  {
   "cell_type": "markdown",
   "metadata": {},
   "source": [
    "## Alterando o case\n",
    "\n",
    "Funções incorporadaas para converter strings em maiúsculas, minúsculas, etc."
   ]
  },
  {
   "cell_type": "code",
   "execution_count": 32,
   "metadata": {},
   "outputs": [],
   "source": [
    "#minusculo\n",
    "str6 = texto.lower()\n",
    "\n",
    "#maisculo\n",
    "str7 = texto.upper()\n",
    "\n",
    "#primeira letra em maisculo\n",
    "str8 = texto.title()\n",
    "\n",
    "#troca entre maisculo/minusculo\n",
    "str9 = str6.swapcase()"
   ]
  },
  {
   "cell_type": "code",
   "execution_count": 33,
   "metadata": {},
   "outputs": [
    {
     "name": "stdout",
     "output_type": "stream",
     "text": [
      "manipulação de strings em python\n",
      "MANIPULAÇÃO DE STRINGS EM PYTHON\n",
      "Manipulação De Strings Em Python\n",
      "MANIPULAÇÃO DE STRINGS EM PYTHON\n"
     ]
    }
   ],
   "source": [
    "print(str6)\n",
    "print(str7)\n",
    "print(str8)\n",
    "print(str9)"
   ]
  },
  {
   "cell_type": "markdown",
   "metadata": {},
   "source": [
    "# Busca e substituição\n",
    "\n",
    "Buscar substrings e substituir"
   ]
  },
  {
   "cell_type": "code",
   "execution_count": 50,
   "metadata": {},
   "outputs": [],
   "source": [
    "texto = \"Python é massa\""
   ]
  },
  {
   "cell_type": "code",
   "execution_count": 49,
   "metadata": {},
   "outputs": [
    {
     "name": "stdout",
     "output_type": "stream",
     "text": [
      "showhon é massa\n"
     ]
    }
   ],
   "source": [
    "# in >> operados booleano que verifica se o dado está contido\n",
    "\n",
    "\"Python\" in texto #retorna true\n",
    "\n",
    "texto.find(\"é\") #retorna o índice de início da palavra pesquisada\n",
    "\n",
    "# Substituição\n",
    "## verificar se o termo 'massa' existe e susbtituir\n",
    "var = input()\n",
    "if var in texto:\n",
    "    str = texto.replace(var, \"show\") #replace(x,y,1) altera somente a primeira palavra caso haja mais de uma na string\n",
    "    print(str)\n",
    "else:\n",
    "    print(\"Palavra não existente\")"
   ]
  },
  {
   "cell_type": "markdown",
   "metadata": {},
   "source": [
    "# Quebrando e juntando strings\n"
   ]
  },
  {
   "cell_type": "code",
   "execution_count": 59,
   "metadata": {},
   "outputs": [
    {
     "name": "stdout",
     "output_type": "stream",
     "text": [
      "['Python', 'é', 'massa']\n",
      "['Python', 'é', 'massa']\n"
     ]
    }
   ],
   "source": [
    "texto = \"Python é massa\"\n",
    "lista_palavras = texto.split()\n",
    "print(lista_palavras)\n",
    "\n",
    "texto = \"Python,é,massa\"\n",
    "lista_palavras = texto.split(sep = \",\")\n",
    "print(lista_palavras)"
   ]
  },
  {
   "cell_type": "code",
   "execution_count": 60,
   "metadata": {},
   "outputs": [
    {
     "name": "stdout",
     "output_type": "stream",
     "text": [
      "Python é massa\n",
      "<class 'str'>\n"
     ]
    }
   ],
   "source": [
    "novo_texto = \" \".join(lista_palavras)\n",
    "print(novo_texto)\n",
    "print(type(novo_texto))"
   ]
  },
  {
   "cell_type": "markdown",
   "metadata": {},
   "source": [
    "# Remover espaços"
   ]
  },
  {
   "cell_type": "code",
   "execution_count": 61,
   "metadata": {},
   "outputs": [],
   "source": [
    "texto = \"          Python language  \""
   ]
  },
  {
   "cell_type": "code",
   "execution_count": 64,
   "metadata": {},
   "outputs": [
    {
     "name": "stdout",
     "output_type": "stream",
     "text": [
      "Python language\n"
     ]
    }
   ],
   "source": [
    "sem_espacos = texto.strip()\n",
    "print(sem_espacos)"
   ]
  },
  {
   "cell_type": "code",
   "execution_count": 66,
   "metadata": {},
   "outputs": [
    {
     "name": "stdout",
     "output_type": "stream",
     "text": [
      "Python language\n",
      "          Python language\n"
     ]
    }
   ],
   "source": [
    "# lstrip\n",
    "sem_espaco_esquerda = texto.lstrip()\n",
    "print(sem_espaco_esquerda)\n",
    "\n",
    "#rstrip\n",
    "sem_espaco_direita = texto.rstrip()\n",
    "print(sem_espaco_direita)"
   ]
  },
  {
   "cell_type": "code",
   "execution_count": 68,
   "metadata": {},
   "outputs": [
    {
     "name": "stdout",
     "output_type": "stream",
     "text": [
      "Curso de Programação com a linguagem Python\n"
     ]
    }
   ],
   "source": [
    "str1 = \"Programação\"\n",
    "str2 = \"Python\"\n",
    "texto = f'Curso de {str1} com a linguagem {str2}'\n",
    "print(texto)"
   ]
  },
  {
   "cell_type": "markdown",
   "metadata": {},
   "source": [
    "# Contar ocorrencia de substring"
   ]
  },
  {
   "cell_type": "code",
   "execution_count": 70,
   "metadata": {},
   "outputs": [],
   "source": [
    "texto = \"Linguagem Python para Analista de Dados. Python é massa e Python é poderoso\"\n",
    "print(texto)"
   ]
  },
  {
   "cell_type": "code",
   "execution_count": 71,
   "metadata": {},
   "outputs": [
    {
     "data": {
      "text/plain": [
       "3"
      ]
     },
     "execution_count": 71,
     "metadata": {},
     "output_type": "execute_result"
    }
   ],
   "source": [
    "texto.count(\"Python\")"
   ]
  },
  {
   "cell_type": "markdown",
   "metadata": {},
   "source": [
    "# Verificação de prefixo e sufixo"
   ]
  },
  {
   "cell_type": "code",
   "execution_count": 72,
   "metadata": {},
   "outputs": [
    {
     "name": "stdout",
     "output_type": "stream",
     "text": [
      "True\n",
      "False\n"
     ]
    }
   ],
   "source": [
    "arq = \"Relatorio_Final_2024.pdf\"\n",
    "\n",
    "#filtrar pelo inicio\n",
    "print(arq.startswith(\"Relato\"))\n",
    "\n",
    "#filtrar pelo fim\n",
    "print(arq.endswith(\".csv\"))\n"
   ]
  },
  {
   "cell_type": "code",
   "execution_count": 73,
   "metadata": {},
   "outputs": [],
   "source": [
    "def cont_vogais_min(s):\n",
    "    s = s.lower()\n",
    "    vogais = \"aeiou\"\n",
    "    return sum(1 for char in s if char in vogais)"
   ]
  },
  {
   "cell_type": "code",
   "execution_count": 75,
   "metadata": {},
   "outputs": [
    {
     "data": {
      "text/plain": [
       "3"
      ]
     },
     "execution_count": 75,
     "metadata": {},
     "output_type": "execute_result"
    }
   ],
   "source": [
    "cont_vogais_min(\"PArAbEns\")"
   ]
  }
 ],
 "metadata": {
  "kernelspec": {
   "display_name": "base",
   "language": "python",
   "name": "python3"
  },
  "language_info": {
   "codemirror_mode": {
    "name": "ipython",
    "version": 3
   },
   "file_extension": ".py",
   "mimetype": "text/x-python",
   "name": "python",
   "nbconvert_exporter": "python",
   "pygments_lexer": "ipython3",
   "version": "3.12.4"
  }
 },
 "nbformat": 4,
 "nbformat_minor": 2
}
