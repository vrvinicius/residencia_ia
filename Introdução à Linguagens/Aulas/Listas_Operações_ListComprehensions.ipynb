{
  "nbformat": 4,
  "nbformat_minor": 0,
  "metadata": {
    "colab": {
      "provenance": []
    },
    "kernelspec": {
      "name": "python3",
      "display_name": "Python 3"
    },
    "language_info": {
      "name": "python"
    }
  },
  "cells": [
    {
      "cell_type": "markdown",
      "source": [
        "### Conceito de iteráveis e iteradores:\n",
        "\n",
        "**Iteráveis** e **iterators** são conceitos centrais na iteração em Python. Aqui está uma breve explicação:\n",
        "\n",
        "### **Iteráveis**:\n",
        "- Um **iterável** é qualquer objeto que pode ser percorrido em um loop, como listas, tuplas, conjuntos, dicionários e strings.\n",
        "- Para ser iterável, um objeto deve implementar o método especial `__iter__()`, que retorna um **iterator**.\n",
        "- Exemplo de iteráveis: listas, strings, dicionários.\n",
        "\n",
        "\n",
        "### **Iterators**:\n",
        "- Um **iterator** é um objeto que permite acessar os elementos de um iterável, um por um, usando o método `__next__()`.\n",
        "- Os iterators não armazenam todos os elementos de uma vez na memória; eles geram cada valor conforme a iteração.\n",
        "- Quando os itens acabam, o iterator levanta a exceção `StopIteration`.\n",
        "- Um iterator é retornado pelo método `iter()` aplicado a um iterável.\n",
        "\n",
        "### Resumo:\n",
        "- **Iteráveis**: são objetos que podem ser percorridos (como listas).\n",
        "- **Iterators**: são objetos que fazem a iteração acontecer, retornando os valores um a um."
      ],
      "metadata": {
        "id": "XzpFHrZ_-EN2"
      }
    },
    {
      "cell_type": "markdown",
      "source": [
        "### **Criar uma lista**"
      ],
      "metadata": {
        "id": "xLWM5f8KUn_u"
      }
    },
    {
      "cell_type": "code",
      "source": [
        "# lista:\n",
        "## mutável\n",
        "## híbrida (aceita diferentes tipos de dados internamente)\n",
        "\n",
        "# list x numpy array\n",
        "## Organização na memória"
      ],
      "metadata": {
        "id": "6MNPNYszUsG7"
      },
      "execution_count": null,
      "outputs": []
    },
    {
      "cell_type": "code",
      "source": [
        "lista = []\n",
        "type(lista)"
      ],
      "metadata": {
        "colab": {
          "base_uri": "https://localhost:8080/"
        },
        "id": "--ANgnniy-ir",
        "outputId": "c66b4595-cd28-494d-e4ce-e7ba77bee3ff"
      },
      "execution_count": null,
      "outputs": [
        {
          "output_type": "execute_result",
          "data": {
            "text/plain": [
              "list"
            ]
          },
          "metadata": {},
          "execution_count": 2
        }
      ]
    },
    {
      "cell_type": "code",
      "source": [
        "lista2 = list()"
      ],
      "metadata": {
        "id": "AEvMDkd0zGL4"
      },
      "execution_count": null,
      "outputs": []
    },
    {
      "cell_type": "code",
      "source": [
        "type(lista2)"
      ],
      "metadata": {
        "colab": {
          "base_uri": "https://localhost:8080/"
        },
        "id": "vnnyX4hOziiv",
        "outputId": "e8864877-3dad-4035-ebd0-fb29b6a165e3"
      },
      "execution_count": null,
      "outputs": [
        {
          "output_type": "execute_result",
          "data": {
            "text/plain": [
              "list"
            ]
          },
          "metadata": {},
          "execution_count": 7
        }
      ]
    },
    {
      "cell_type": "code",
      "source": [
        "minha_lista = [1, 2,3]\n",
        "minha_lista2 = [10, 20,30]\n",
        "\n",
        "print(minha_lista)"
      ],
      "metadata": {
        "colab": {
          "base_uri": "https://localhost:8080/"
        },
        "id": "WEIjN80snNcU",
        "outputId": "b1ff2347-b6f8-4227-cb44-76ee60d40809"
      },
      "execution_count": 17,
      "outputs": [
        {
          "output_type": "stream",
          "name": "stdout",
          "text": [
            "[1, 2, 3]\n"
          ]
        }
      ]
    },
    {
      "cell_type": "code",
      "source": [
        "def teste():\n",
        "  yield 1\n",
        "  yield 2\n",
        "  yield 3\n",
        "\n"
      ],
      "metadata": {
        "id": "ABr6AuuisNSa"
      },
      "execution_count": null,
      "outputs": []
    },
    {
      "cell_type": "code",
      "source": [
        "for i,_ in zip(minha_lista, minha_lista2):\n",
        "  print(i)"
      ],
      "metadata": {
        "colab": {
          "base_uri": "https://localhost:8080/"
        },
        "id": "VoGVT8tandbd",
        "outputId": "827249b3-1e4e-4e0a-aa90-299d2a04ccaa"
      },
      "execution_count": 21,
      "outputs": [
        {
          "output_type": "stream",
          "name": "stdout",
          "text": [
            "1\n",
            "2\n",
            "3\n"
          ]
        }
      ]
    },
    {
      "cell_type": "code",
      "source": [
        "print(minha_lista)"
      ],
      "metadata": {
        "colab": {
          "base_uri": "https://localhost:8080/"
        },
        "id": "8Kw74NtlrjZ7",
        "outputId": "de02b641-ff5b-427b-a82c-22b8ae2b27ee"
      },
      "execution_count": 22,
      "outputs": [
        {
          "output_type": "stream",
          "name": "stdout",
          "text": [
            "[1, 2, 3]\n"
          ]
        }
      ]
    },
    {
      "cell_type": "code",
      "source": [
        "iterator = iter(minha_lista)"
      ],
      "metadata": {
        "id": "d19IyAVEnt8x"
      },
      "execution_count": 12,
      "outputs": []
    },
    {
      "cell_type": "code",
      "source": [
        "type(iterator)"
      ],
      "metadata": {
        "colab": {
          "base_uri": "https://localhost:8080/"
        },
        "id": "nrQnnDyCn2xP",
        "outputId": "a32f4ed6-2dfa-4d55-e073-e2f5fe8e3a04"
      },
      "execution_count": 25,
      "outputs": [
        {
          "output_type": "execute_result",
          "data": {
            "text/plain": [
              "list_iterator"
            ]
          },
          "metadata": {},
          "execution_count": 25
        }
      ]
    },
    {
      "cell_type": "code",
      "source": [
        "import sys\n",
        "print(sys.getsizeof(minha_lista))\n",
        "print(sys.getsizeof(iterator))"
      ],
      "metadata": {
        "colab": {
          "base_uri": "https://localhost:8080/"
        },
        "id": "MciLib2psjb-",
        "outputId": "cbe6fd04-8e33-456b-f1e7-a02cd7af71a3"
      },
      "execution_count": 26,
      "outputs": [
        {
          "output_type": "stream",
          "name": "stdout",
          "text": [
            "88\n",
            "48\n"
          ]
        }
      ]
    },
    {
      "cell_type": "code",
      "source": [
        "print(next(iterator)) # Imprimir 1\n",
        "print(next(iterator)) # Imprimir 2\n",
        "print(next(iterator)) # Imprimir 3\n",
        "print(next(iterator)) # Imprimir Erro!!"
      ],
      "metadata": {
        "colab": {
          "base_uri": "https://localhost:8080/",
          "height": 228
        },
        "id": "wflY3bben60O",
        "outputId": "325a9ee1-8d40-495e-cfe8-9b5c5fb7b072"
      },
      "execution_count": 13,
      "outputs": [
        {
          "output_type": "stream",
          "name": "stdout",
          "text": [
            "1\n",
            "2\n",
            "3\n"
          ]
        },
        {
          "output_type": "error",
          "ename": "StopIteration",
          "evalue": "",
          "traceback": [
            "\u001b[0;31m---------------------------------------------------------------------------\u001b[0m",
            "\u001b[0;31mStopIteration\u001b[0m                             Traceback (most recent call last)",
            "\u001b[0;32m<ipython-input-13-c9e235c6872a>\u001b[0m in \u001b[0;36m<cell line: 4>\u001b[0;34m()\u001b[0m\n\u001b[1;32m      2\u001b[0m \u001b[0mprint\u001b[0m\u001b[0;34m(\u001b[0m\u001b[0mnext\u001b[0m\u001b[0;34m(\u001b[0m\u001b[0miterator\u001b[0m\u001b[0;34m)\u001b[0m\u001b[0;34m)\u001b[0m \u001b[0;31m# Imprimir 2\u001b[0m\u001b[0;34m\u001b[0m\u001b[0;34m\u001b[0m\u001b[0m\n\u001b[1;32m      3\u001b[0m \u001b[0mprint\u001b[0m\u001b[0;34m(\u001b[0m\u001b[0mnext\u001b[0m\u001b[0;34m(\u001b[0m\u001b[0miterator\u001b[0m\u001b[0;34m)\u001b[0m\u001b[0;34m)\u001b[0m \u001b[0;31m# Imprimir 3\u001b[0m\u001b[0;34m\u001b[0m\u001b[0;34m\u001b[0m\u001b[0m\n\u001b[0;32m----> 4\u001b[0;31m \u001b[0mprint\u001b[0m\u001b[0;34m(\u001b[0m\u001b[0mnext\u001b[0m\u001b[0;34m(\u001b[0m\u001b[0miterator\u001b[0m\u001b[0;34m)\u001b[0m\u001b[0;34m)\u001b[0m \u001b[0;31m# Imprimir Erro!!\u001b[0m\u001b[0;34m\u001b[0m\u001b[0;34m\u001b[0m\u001b[0m\n\u001b[0m",
            "\u001b[0;31mStopIteration\u001b[0m: "
          ]
        }
      ]
    },
    {
      "cell_type": "code",
      "source": [
        "dir(list)"
      ],
      "metadata": {
        "id": "IuDK2gX0U8dz",
        "colab": {
          "base_uri": "https://localhost:8080/"
        },
        "outputId": "e2f5c86e-6048-429c-eedd-c1cdb12abf43"
      },
      "execution_count": 27,
      "outputs": [
        {
          "output_type": "execute_result",
          "data": {
            "text/plain": [
              "['__add__',\n",
              " '__class__',\n",
              " '__class_getitem__',\n",
              " '__contains__',\n",
              " '__delattr__',\n",
              " '__delitem__',\n",
              " '__dir__',\n",
              " '__doc__',\n",
              " '__eq__',\n",
              " '__format__',\n",
              " '__ge__',\n",
              " '__getattribute__',\n",
              " '__getitem__',\n",
              " '__gt__',\n",
              " '__hash__',\n",
              " '__iadd__',\n",
              " '__imul__',\n",
              " '__init__',\n",
              " '__init_subclass__',\n",
              " '__iter__',\n",
              " '__le__',\n",
              " '__len__',\n",
              " '__lt__',\n",
              " '__mul__',\n",
              " '__ne__',\n",
              " '__new__',\n",
              " '__reduce__',\n",
              " '__reduce_ex__',\n",
              " '__repr__',\n",
              " '__reversed__',\n",
              " '__rmul__',\n",
              " '__setattr__',\n",
              " '__setitem__',\n",
              " '__sizeof__',\n",
              " '__str__',\n",
              " '__subclasshook__',\n",
              " 'append',\n",
              " 'clear',\n",
              " 'copy',\n",
              " 'count',\n",
              " 'extend',\n",
              " 'index',\n",
              " 'insert',\n",
              " 'pop',\n",
              " 'remove',\n",
              " 'reverse',\n",
              " 'sort']"
            ]
          },
          "metadata": {},
          "execution_count": 27
        }
      ]
    },
    {
      "cell_type": "markdown",
      "source": [
        "### **Adicionar elementos à lista**\n",
        "- **Append**: Adiciona um elemento ao final da lista."
      ],
      "metadata": {
        "id": "9tAZVcnsU20t"
      }
    },
    {
      "cell_type": "code",
      "source": [
        "help(list.append)"
      ],
      "metadata": {
        "colab": {
          "base_uri": "https://localhost:8080/"
        },
        "id": "P2BtC72GtaUb",
        "outputId": "deaac5b0-4aa9-4af1-e921-0ce3722d116f"
      },
      "execution_count": 28,
      "outputs": [
        {
          "output_type": "stream",
          "name": "stdout",
          "text": [
            "Help on method_descriptor:\n",
            "\n",
            "append(self, object, /)\n",
            "    Append object to the end of the list.\n",
            "\n"
          ]
        }
      ]
    },
    {
      "cell_type": "code",
      "source": [
        "lista = []\n",
        "lista.append(10)\n",
        "lista.append(20)\n",
        "lista.append('Danilo')\n",
        "print(lista)"
      ],
      "metadata": {
        "colab": {
          "base_uri": "https://localhost:8080/"
        },
        "id": "JuF1xMustk4B",
        "outputId": "a8faad9c-5f09-49fd-9b36-4d4011cb1f67"
      },
      "execution_count": 29,
      "outputs": [
        {
          "output_type": "stream",
          "name": "stdout",
          "text": [
            "[10, 20, 'Danilo']\n"
          ]
        }
      ]
    },
    {
      "cell_type": "markdown",
      "source": [
        "- **Extend**: Adiciona todos os elementos de uma lista ao final de outra.\n"
      ],
      "metadata": {
        "id": "9Pi-vtrkVA_8"
      }
    },
    {
      "cell_type": "code",
      "source": [
        "listaA = [1,2,3,4]\n",
        "listaB = [5,6,7,8]\n",
        "\n",
        "print(listaA)\n",
        "print(listaB)\n",
        "\n",
        "listaA.extend(listaB)\n",
        "print(listaA)"
      ],
      "metadata": {
        "id": "AyPjQE9oVFQa",
        "colab": {
          "base_uri": "https://localhost:8080/"
        },
        "outputId": "5408afe6-c2b4-445b-8c07-2adf993ad454"
      },
      "execution_count": 34,
      "outputs": [
        {
          "output_type": "stream",
          "name": "stdout",
          "text": [
            "[1, 2, 3, 4]\n",
            "[5, 6, 7, 8]\n",
            "[1, 2, 3, 4, 5, 6, 7, 8]\n"
          ]
        }
      ]
    },
    {
      "cell_type": "markdown",
      "source": [
        "- **Insert**: Insere um elemento em uma posição específica."
      ],
      "metadata": {
        "id": "XffDNZbBVN_s"
      }
    },
    {
      "cell_type": "code",
      "source": [
        "help(list.insert)"
      ],
      "metadata": {
        "id": "1mN62O_iVNGM",
        "colab": {
          "base_uri": "https://localhost:8080/"
        },
        "outputId": "f435577a-177e-4fd5-f1c7-e0e9d803801a"
      },
      "execution_count": 30,
      "outputs": [
        {
          "output_type": "stream",
          "name": "stdout",
          "text": [
            "Help on method_descriptor:\n",
            "\n",
            "insert(self, index, object, /)\n",
            "    Insert object before index.\n",
            "\n"
          ]
        }
      ]
    },
    {
      "cell_type": "code",
      "source": [
        "lista.insert(1,12)"
      ],
      "metadata": {
        "id": "gmhqEeHOt9di"
      },
      "execution_count": 31,
      "outputs": []
    },
    {
      "cell_type": "code",
      "source": [
        "print(lista)"
      ],
      "metadata": {
        "colab": {
          "base_uri": "https://localhost:8080/"
        },
        "id": "JlasDAMruDnl",
        "outputId": "9bb958ea-4d01-4177-dc4b-f0f598537d47"
      },
      "execution_count": 32,
      "outputs": [
        {
          "output_type": "stream",
          "name": "stdout",
          "text": [
            "[10, 12, 20, 'Danilo']\n"
          ]
        }
      ]
    },
    {
      "cell_type": "code",
      "source": [
        "lista.insert(2, [3,2,1])\n",
        "print(lista)"
      ],
      "metadata": {
        "colab": {
          "base_uri": "https://localhost:8080/"
        },
        "id": "qUHQas1kuHmn",
        "outputId": "8498da26-8fc0-4ba9-9393-e8ee374963aa"
      },
      "execution_count": 33,
      "outputs": [
        {
          "output_type": "stream",
          "name": "stdout",
          "text": [
            "[10, 12, [3, 2, 1], 20, 'Danilo']\n"
          ]
        }
      ]
    },
    {
      "cell_type": "markdown",
      "source": [
        "### **Remover elementos da lista**\n",
        "- **Remove**: Remove a primeira ocorrência de um valor específico."
      ],
      "metadata": {
        "id": "5XdcGcnXVYhr"
      }
    },
    {
      "cell_type": "code",
      "source": [
        "lista = [1,2,3,4,1]\n",
        "lista.remove(1)\n",
        "print(lista)"
      ],
      "metadata": {
        "id": "bwsSSBybVeup",
        "colab": {
          "base_uri": "https://localhost:8080/"
        },
        "outputId": "7022dbff-228d-4018-f77a-a58fcccd74b7"
      },
      "execution_count": 35,
      "outputs": [
        {
          "output_type": "stream",
          "name": "stdout",
          "text": [
            "[2, 3, 4, 1]\n"
          ]
        }
      ]
    },
    {
      "cell_type": "code",
      "source": [
        "lista = [1,2,3,4,1]\n",
        "lista.count(1)"
      ],
      "metadata": {
        "colab": {
          "base_uri": "https://localhost:8080/"
        },
        "id": "-TK8AfYLvs3X",
        "outputId": "a282510e-b269-4bfe-adfd-87b7fc39c8f8"
      },
      "execution_count": 36,
      "outputs": [
        {
          "output_type": "execute_result",
          "data": {
            "text/plain": [
              "2"
            ]
          },
          "metadata": {},
          "execution_count": 36
        }
      ]
    },
    {
      "cell_type": "markdown",
      "source": [
        "- **Pop**: Remove e retorna o elemento na posição especificada (ou o último se não for especificado)."
      ],
      "metadata": {
        "id": "eeAn648lVjc8"
      }
    },
    {
      "cell_type": "code",
      "source": [
        "lista = [1,2,3,4,1]\n",
        "saida = lista.pop()\n",
        "print(lista)\n",
        "print(saida)"
      ],
      "metadata": {
        "id": "lzgilNU-Vn-c",
        "colab": {
          "base_uri": "https://localhost:8080/"
        },
        "outputId": "15d304f5-4776-4737-e56f-02d54187eb85"
      },
      "execution_count": 40,
      "outputs": [
        {
          "output_type": "stream",
          "name": "stdout",
          "text": [
            "[1, 2, 3, 4]\n",
            "1\n"
          ]
        }
      ]
    },
    {
      "cell_type": "code",
      "source": [
        "lista.pop(2)\n",
        "print(lista)"
      ],
      "metadata": {
        "colab": {
          "base_uri": "https://localhost:8080/"
        },
        "id": "0QxtnEkRwMgv",
        "outputId": "e90cc0db-0191-4e8e-9e8a-8171783d6fed"
      },
      "execution_count": 38,
      "outputs": [
        {
          "output_type": "stream",
          "name": "stdout",
          "text": [
            "[1, 2, 4]\n"
          ]
        }
      ]
    },
    {
      "cell_type": "markdown",
      "source": [
        "### **Acessar elementos da lista**\n",
        "- Acessar elementos por índice:"
      ],
      "metadata": {
        "id": "McN_Ih0lVt7C"
      }
    },
    {
      "cell_type": "code",
      "source": [
        "lista = [1,2,3,4,1]\n",
        "lista[2] # Acesso por índice"
      ],
      "metadata": {
        "id": "bugF4skzVz1O",
        "colab": {
          "base_uri": "https://localhost:8080/"
        },
        "outputId": "12edc0b2-1a1d-4b2c-ccb7-fed175f4c145"
      },
      "execution_count": 56,
      "outputs": [
        {
          "output_type": "execute_result",
          "data": {
            "text/plain": [
              "3"
            ]
          },
          "metadata": {},
          "execution_count": 56
        }
      ]
    },
    {
      "cell_type": "markdown",
      "source": [
        "- Acessar sublistas usando fatias (slice):"
      ],
      "metadata": {
        "id": "GNFyIvVTV49S"
      }
    },
    {
      "cell_type": "code",
      "source": [
        "lista[0:2]"
      ],
      "metadata": {
        "id": "T7FtzUkIV8Gj",
        "colab": {
          "base_uri": "https://localhost:8080/"
        },
        "outputId": "937aabba-6669-4396-db83-5c986c62e6b8"
      },
      "execution_count": 42,
      "outputs": [
        {
          "output_type": "execute_result",
          "data": {
            "text/plain": [
              "[1, 2]"
            ]
          },
          "metadata": {},
          "execution_count": 42
        }
      ]
    },
    {
      "cell_type": "code",
      "source": [
        "lista[:-1]"
      ],
      "metadata": {
        "colab": {
          "base_uri": "https://localhost:8080/"
        },
        "id": "N7xOOMjGy7Jh",
        "outputId": "d94493f7-ee7a-4dc8-e821-33664fa60289"
      },
      "execution_count": 47,
      "outputs": [
        {
          "output_type": "execute_result",
          "data": {
            "text/plain": [
              "[1, 2, 3, 4]"
            ]
          },
          "metadata": {},
          "execution_count": 47
        }
      ]
    },
    {
      "cell_type": "code",
      "source": [
        "lista[-3]"
      ],
      "metadata": {
        "colab": {
          "base_uri": "https://localhost:8080/"
        },
        "id": "5SqmLMhGzKGt",
        "outputId": "6447f887-b61d-4290-bfb5-ea023d7e6a20"
      },
      "execution_count": 50,
      "outputs": [
        {
          "output_type": "execute_result",
          "data": {
            "text/plain": [
              "3"
            ]
          },
          "metadata": {},
          "execution_count": 50
        }
      ]
    },
    {
      "cell_type": "code",
      "source": [
        "lista[-4:]"
      ],
      "metadata": {
        "colab": {
          "base_uri": "https://localhost:8080/"
        },
        "id": "Q7TKbmClzQrm",
        "outputId": "a0e6de19-2b45-47fc-a1ae-945125a68d5c"
      },
      "execution_count": 51,
      "outputs": [
        {
          "output_type": "execute_result",
          "data": {
            "text/plain": [
              "[2, 3, 4, 1]"
            ]
          },
          "metadata": {},
          "execution_count": 51
        }
      ]
    },
    {
      "cell_type": "code",
      "source": [
        "lista"
      ],
      "metadata": {
        "colab": {
          "base_uri": "https://localhost:8080/"
        },
        "id": "1uhw2Bcyzbiw",
        "outputId": "4989b08e-3b9f-4f42-e42b-fac00699e288"
      },
      "execution_count": 52,
      "outputs": [
        {
          "output_type": "execute_result",
          "data": {
            "text/plain": [
              "[1, 2, 3, 4, 1]"
            ]
          },
          "metadata": {},
          "execution_count": 52
        }
      ]
    },
    {
      "cell_type": "code",
      "source": [
        "copy = lista[-3:]"
      ],
      "metadata": {
        "id": "jwn0jsDwzwzX"
      },
      "execution_count": 53,
      "outputs": []
    },
    {
      "cell_type": "code",
      "source": [
        "copy"
      ],
      "metadata": {
        "colab": {
          "base_uri": "https://localhost:8080/"
        },
        "id": "Gp6GFkVfzzib",
        "outputId": "2deeec67-75a3-4c99-8f9a-53563b28c9b0"
      },
      "execution_count": 54,
      "outputs": [
        {
          "output_type": "execute_result",
          "data": {
            "text/plain": [
              "[3, 4, 1]"
            ]
          },
          "metadata": {},
          "execution_count": 54
        }
      ]
    },
    {
      "cell_type": "markdown",
      "source": [
        "### **Iterar sobre os elementos**"
      ],
      "metadata": {
        "id": "_vSNB0kAWA-5"
      }
    },
    {
      "cell_type": "code",
      "source": [
        "lista = [1,2,3,4,1]\n",
        "for i in lista:\n",
        "  print(i)"
      ],
      "metadata": {
        "id": "U5pdmx1QWFsY"
      },
      "execution_count": null,
      "outputs": []
    },
    {
      "cell_type": "markdown",
      "source": [
        "### **Verificar se um elemento está na lista**\n"
      ],
      "metadata": {
        "id": "p50ZuU96WK0u"
      }
    },
    {
      "cell_type": "code",
      "source": [
        "lista = [1,2,3,4,1]\n",
        "print(2 in lista)\n",
        "print(3 in lista)\n",
        "print(10 in lista)"
      ],
      "metadata": {
        "id": "YICRFVT5WNXk",
        "colab": {
          "base_uri": "https://localhost:8080/"
        },
        "outputId": "efd1ba4b-f1fa-46b5-bb91-1eb12afa73e5"
      },
      "execution_count": 58,
      "outputs": [
        {
          "output_type": "stream",
          "name": "stdout",
          "text": [
            "True\n",
            "True\n",
            "False\n"
          ]
        }
      ]
    },
    {
      "cell_type": "markdown",
      "source": [
        "### **Ordenar a lista**\n",
        "- **Sort**: Ordena a lista in-place.\n"
      ],
      "metadata": {
        "id": "rKpwbTqlWSfq"
      }
    },
    {
      "cell_type": "code",
      "source": [
        "lista = [2,5,3,4,1]\n",
        "lista.sort()\n",
        "print(lista)"
      ],
      "metadata": {
        "id": "xbGifbzLWU4h",
        "colab": {
          "base_uri": "https://localhost:8080/"
        },
        "outputId": "05d824bf-348c-4361-e6c8-a89eb9fee763"
      },
      "execution_count": 59,
      "outputs": [
        {
          "output_type": "stream",
          "name": "stdout",
          "text": [
            "[1, 2, 3, 4, 5]\n"
          ]
        }
      ]
    },
    {
      "cell_type": "markdown",
      "source": [
        "- **Sorted**: Retorna uma nova lista ordenada.\n"
      ],
      "metadata": {
        "id": "zWcRAtjOWZU9"
      }
    },
    {
      "cell_type": "code",
      "source": [
        "lista = [2,5,3,4,1]\n",
        "nova_lista = sorted(lista)"
      ],
      "metadata": {
        "id": "eY0OO-TFWcqB"
      },
      "execution_count": 62,
      "outputs": []
    },
    {
      "cell_type": "code",
      "source": [
        "print(lista)\n",
        "print(nova_lista)"
      ],
      "metadata": {
        "colab": {
          "base_uri": "https://localhost:8080/"
        },
        "id": "22ury4ER0yIZ",
        "outputId": "58e8b2f0-6eca-4c4f-845a-c5c8b28398a6"
      },
      "execution_count": 63,
      "outputs": [
        {
          "output_type": "stream",
          "name": "stdout",
          "text": [
            "[2, 5, 3, 4, 1]\n",
            "[1, 2, 3, 4, 5]\n"
          ]
        }
      ]
    },
    {
      "cell_type": "code",
      "source": [],
      "metadata": {
        "id": "N3SooqXq096Q"
      },
      "execution_count": null,
      "outputs": []
    },
    {
      "cell_type": "markdown",
      "source": [
        "### **Cópia de Listas**"
      ],
      "metadata": {
        "id": "KORJUFm50_U2"
      }
    },
    {
      "cell_type": "code",
      "source": [
        "lista = [1,2,3,4,5,6]\n",
        "lista2 = lista"
      ],
      "metadata": {
        "id": "yPvtn00x1nsm"
      },
      "execution_count": 64,
      "outputs": []
    },
    {
      "cell_type": "code",
      "source": [
        "print(lista)\n",
        "print(lista2)"
      ],
      "metadata": {
        "colab": {
          "base_uri": "https://localhost:8080/"
        },
        "id": "pT6UEukE1sff",
        "outputId": "b979f530-0135-44d8-b3fd-b3e40d8a5c7a"
      },
      "execution_count": 65,
      "outputs": [
        {
          "output_type": "stream",
          "name": "stdout",
          "text": [
            "[1, 2, 3, 4, 5, 6]\n",
            "[1, 2, 3, 4, 5, 6]\n"
          ]
        }
      ]
    },
    {
      "cell_type": "code",
      "source": [
        "lista2.append(10)"
      ],
      "metadata": {
        "id": "T35LW8bS14Il"
      },
      "execution_count": 66,
      "outputs": []
    },
    {
      "cell_type": "code",
      "source": [
        "print(lista)\n",
        "print(lista2)"
      ],
      "metadata": {
        "colab": {
          "base_uri": "https://localhost:8080/"
        },
        "id": "fIEvH9ua19gN",
        "outputId": "f2e3ddfd-adb5-471f-e0df-4d4699d5dc22"
      },
      "execution_count": 67,
      "outputs": [
        {
          "output_type": "stream",
          "name": "stdout",
          "text": [
            "[1, 2, 3, 4, 5, 6, 10]\n",
            "[1, 2, 3, 4, 5, 6, 10]\n"
          ]
        }
      ]
    },
    {
      "cell_type": "markdown",
      "source": [
        "Copiar uma lista\n",
        "- Usando o método `copy()`:"
      ],
      "metadata": {
        "id": "n67l8hWrXB2A"
      }
    },
    {
      "cell_type": "code",
      "source": [
        "lista2 = lista.copy()"
      ],
      "metadata": {
        "id": "JM4q9jx82Qzt"
      },
      "execution_count": 68,
      "outputs": []
    },
    {
      "cell_type": "code",
      "source": [
        "lista2.append(20)\n",
        "print(lista)\n",
        "print(lista2)"
      ],
      "metadata": {
        "colab": {
          "base_uri": "https://localhost:8080/"
        },
        "id": "wXKtEy7V2dTA",
        "outputId": "5ef8b9da-648b-4e7e-cb27-f7636eee7560"
      },
      "execution_count": 69,
      "outputs": [
        {
          "output_type": "stream",
          "name": "stdout",
          "text": [
            "[1, 2, 3, 4, 5, 6, 10]\n",
            "[1, 2, 3, 4, 5, 6, 10, 20]\n"
          ]
        }
      ]
    },
    {
      "cell_type": "markdown",
      "source": [
        "### **Obter o comprimento da lista**\n"
      ],
      "metadata": {
        "id": "uBKCcyfsWgZn"
      }
    },
    {
      "cell_type": "code",
      "source": [
        "lista = [1,2,3,4,5]\n",
        "print(len(lista))"
      ],
      "metadata": {
        "id": "YUKmnGI8Wix4",
        "colab": {
          "base_uri": "https://localhost:8080/"
        },
        "outputId": "05a8d1a7-d704-4ed7-cfc3-8603547e7464"
      },
      "execution_count": 70,
      "outputs": [
        {
          "output_type": "stream",
          "name": "stdout",
          "text": [
            "5\n"
          ]
        }
      ]
    },
    {
      "cell_type": "markdown",
      "source": [
        "### **Concatenar listas**"
      ],
      "metadata": {
        "id": "MhTiSd5FWomK"
      }
    },
    {
      "cell_type": "code",
      "source": [
        "lista1 = [1,2]\n",
        "lista2 = [3,4]\n",
        "lista3 = lista1+lista2\n",
        "print(lista1)\n",
        "print(lista2)\n",
        "print(lista3)"
      ],
      "metadata": {
        "id": "ZBjWj-riWsrV",
        "colab": {
          "base_uri": "https://localhost:8080/"
        },
        "outputId": "0de25119-9a51-44f4-f139-7ebfeab1a10d"
      },
      "execution_count": 71,
      "outputs": [
        {
          "output_type": "stream",
          "name": "stdout",
          "text": [
            "[1, 2]\n",
            "[3, 4]\n",
            "[1, 2, 3, 4]\n"
          ]
        }
      ]
    },
    {
      "cell_type": "markdown",
      "source": [
        "### **Reverter a lista**\n"
      ],
      "metadata": {
        "id": "HDv6nvFiWyUH"
      }
    },
    {
      "cell_type": "code",
      "source": [
        "lista = [1,2,3,4,5]\n",
        "lista.reverse()\n",
        "print(lista)"
      ],
      "metadata": {
        "id": "SOZJktGNW1ZO",
        "colab": {
          "base_uri": "https://localhost:8080/"
        },
        "outputId": "8ff4470d-545f-42e0-a9eb-17a27c9920c2"
      },
      "execution_count": 72,
      "outputs": [
        {
          "output_type": "stream",
          "name": "stdout",
          "text": [
            "[5, 4, 3, 2, 1]\n"
          ]
        }
      ]
    },
    {
      "cell_type": "code",
      "source": [],
      "metadata": {
        "id": "GUlnq2gtXFzS"
      },
      "execution_count": null,
      "outputs": []
    },
    {
      "cell_type": "markdown",
      "source": [
        "### **List Comprehensions (Compreensões de lista)**\n",
        "\n",
        "### **List Comprehensions (Compreensões de lista)**\n",
        "\n",
        "A **list comprehension** é uma maneira de criar listas a partir de iteráveis, aplicando uma expressão ou transformação a cada item da sequência. Ela permite gerar listas de forma mais compacta do que usando laços `for` tradicionais, combinando loops e condicionais em uma única linha.\n",
        "\n",
        "### Sintaxe básica:\n",
        "```python\n",
        "[expressão for item in obj_iterável (Opcional: if <cond>)]\n",
        "```\n",
        "- **expressão**: Pode ser o próprio item ou uma transformação aplicada ao item.\n",
        "- **for item in iterável**: Representa o loop sobre o iterável.\n",
        "\n",
        "\n"
      ],
      "metadata": {
        "id": "ApNZiy8bW5J5"
      }
    },
    {
      "cell_type": "code",
      "source": [
        "lista_Valores = [1,2,3,4,5,6]\n",
        "lista_quadrados = [valor**2 for valor in lista_Valores]\n",
        "print(lista_Valores)\n",
        "print(lista_quadrados)"
      ],
      "metadata": {
        "id": "RNJqJT5mW9qR",
        "colab": {
          "base_uri": "https://localhost:8080/"
        },
        "outputId": "628c84a2-740f-4682-f173-8619865372b2"
      },
      "execution_count": 2,
      "outputs": [
        {
          "output_type": "stream",
          "name": "stdout",
          "text": [
            "[1, 2, 3, 4, 5, 6]\n",
            "[1, 4, 9, 16, 25, 36]\n"
          ]
        }
      ]
    },
    {
      "cell_type": "code",
      "source": [
        "# Filtrar pelos elementos menores que 10\n",
        "lista_Valores = [10,2,30,4,15,6,7,22,9]\n",
        "lista_menores = [valor for valor in lista_Valores if valor < 10]\n",
        "print(lista_Valores)\n",
        "print(lista_menores)"
      ],
      "metadata": {
        "colab": {
          "base_uri": "https://localhost:8080/"
        },
        "id": "5huNBp_eGTw6",
        "outputId": "73ce4157-077d-4703-e96d-1c25bfbbb68a"
      },
      "execution_count": 4,
      "outputs": [
        {
          "output_type": "stream",
          "name": "stdout",
          "text": [
            "[10, 2, 30, 4, 15, 6, 7, 22, 9]\n",
            "[2, 4, 6, 7, 9]\n"
          ]
        }
      ]
    },
    {
      "cell_type": "markdown",
      "source": [
        "Utilizando com listas aninhadas"
      ],
      "metadata": {
        "id": "axlj9odOHqvg"
      }
    },
    {
      "cell_type": "code",
      "source": [],
      "metadata": {
        "id": "naF9Rk3RHvwP"
      },
      "execution_count": null,
      "outputs": []
    },
    {
      "cell_type": "code",
      "source": [],
      "metadata": {
        "id": "Q0DG_iTxHvsc"
      },
      "execution_count": null,
      "outputs": []
    },
    {
      "cell_type": "markdown",
      "source": [
        "## List Comprehensions e Generators\n",
        "\n",
        "Em Python, tanto **list comprehensions** quanto **generators** são maneiras eficientes de criar iteráveis, mas há diferenças significativas entre os dois em termos de **memória**.\n",
        "\n",
        "### Diferenças principais:\n",
        "\n",
        "1. **Avaliação**:\n",
        "   - **Compreensão de listas**: Avalia e armazena **todos os itens na memória de uma vez**, criando uma lista completa.\n",
        "   - **Generators**: Avalia os itens **sob demanda** (lazy evaluation), ou seja, os itens são gerados um de cada vez, conforme necessário.\n",
        "\n",
        "2. **Uso de memória**:\n",
        "   - **Compreensão de listas**: Pode ser ineficiente se o conjunto de dados for muito grande, pois mantém todos os itens na memória.\n",
        "   - **Generators**: Usa menos memória, já que gera os itens conforme a iteração avança, sem armazenar todos os elementos de uma vez.\n",
        "\n",
        "3. **Retorno**:\n",
        "   - **Compreensão de listas**: Retorna uma **lista**.\n",
        "   - **Generators**: Retorna um **objeto generator**, que pode ser iterado, mas não é uma lista diretamente.\n",
        "\n",
        "4. **Sintaxe**:\n",
        "   - **Compreensão de listas**: Usa colchetes `[]`.\n",
        "   - **Generators**: Usa parênteses `()`."
      ],
      "metadata": {
        "id": "rGfYcOt2-QtG"
      }
    }
  ]
}