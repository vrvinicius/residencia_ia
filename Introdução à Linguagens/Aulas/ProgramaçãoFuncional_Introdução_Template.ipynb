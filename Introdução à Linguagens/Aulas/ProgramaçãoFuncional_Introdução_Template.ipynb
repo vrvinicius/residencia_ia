{
 "cells": [
  {
   "cell_type": "code",
   "execution_count": null,
   "metadata": {
    "id": "Ltj7Wlkx1QqM"
   },
   "outputs": [],
   "source": []
  },
  {
   "cell_type": "markdown",
   "metadata": {
    "id": "K2R3hNuR1Y2a"
   },
   "source": [
    "## **Programação Funcional**\n",
    "\n"
   ]
  },
  {
   "cell_type": "markdown",
   "metadata": {
    "id": "6s-kJB9q3lFG"
   },
   "source": [
    "- É um paradigma de programação que trata o cálculo como a avaliação de funções matemáticas e evita mudanças de estado e dados mutáveis;\n",
    "- Python suporta muitos conceitos de programação funcional, como funções de primeira classe, imutabilidade e funções de alta ordem.\n",
    "\n",
    "\n"
   ]
  },
  {
   "cell_type": "markdown",
   "metadata": {
    "id": "gW0pQEBY3ze3"
   },
   "source": [
    "1. **Funções de Primeira Classe**: Em Python, funções são \"cidadãs de primeira classe\", isso significa que a função pode ser:\n",
    "- Atribuída a uma variável,\n",
    "- Passada como argumento para outras funções,\n",
    "- Retornada como resultado de outra função,\n",
    "- Armazenada em estruturas de dados como listas, dicionários, etc.\n",
    "\n"
   ]
  },
  {
   "cell_type": "code",
   "execution_count": 3,
   "metadata": {
    "colab": {
     "base_uri": "https://localhost:8080/"
    },
    "id": "myzh_unY4LPo",
    "outputId": "47427a7f-ba24-4fca-cf66-10d6da3a6b73"
   },
   "outputs": [
    {
     "name": "stdout",
     "output_type": "stream",
     "text": [
      "8\n"
     ]
    }
   ],
   "source": [
    "def dobro(x):\n",
    "  return x * 2\n",
    "\n",
    "calc = dobro\n",
    "print(calc(4))"
   ]
  },
  {
   "cell_type": "code",
   "execution_count": 1,
   "metadata": {
    "colab": {
     "base_uri": "https://localhost:8080/"
    },
    "id": "zwOwrcqySsEX",
    "outputId": "f65ebe78-8c3a-4201-af58-f3251e6f2fff"
   },
   "outputs": [
    {
     "name": "stdout",
     "output_type": "stream",
     "text": [
      "8\n"
     ]
    }
   ],
   "source": [
    "def multiplica(x):\n",
    "  def calculo(y):\n",
    "    return y*x\n",
    "  return calculo\n",
    "\n",
    "dobro = multiplica(2)\n",
    "print(dobro(4))"
   ]
  },
  {
   "cell_type": "markdown",
   "metadata": {
    "id": "Kh7tmGnW4KqD"
   },
   "source": [
    "2. **Funções de Alta Ordem**: São funções que aceitam outras funções como argumentos ou retornam uma função como resultado. Exemplos em Python incluem:\n",
    "   - `map()`: Aplica uma função a todos os itens de um iterável (como uma lista).\n",
    "   - `filter()`: Filtra itens de um iterável que satisfazem uma condição.\n",
    "   - `reduce()`: Reduz uma sequência de valores a um único valor aplicando uma função cumulativa.\n",
    "\n"
   ]
  },
  {
   "cell_type": "markdown",
   "metadata": {
    "id": "pXIbp6hx5EuC"
   },
   "source": [
    "3. **Imutabilidade**: A programação funcional incentiva o uso de dados imutáveis (ou seja, que não mudam). Isso significa que, ao invés de modificar objetos existentes, cria-se novos objetos com as alterações. Em Python, podemos usar tuplas e strings, que são tipos imutáveis, para obter essa característica.\n",
    "\n",
    "4. **Funções Lambda**: São funções anônimas, ou seja, funções que não precisam de um nome. Em Python, elas são definidas com a palavra-chave `lambda` e são frequentemente usadas como argumentos em funções de alta ordem, como `map()` e `filter()`.\n",
    "\n",
    "5. **Expressões e Avaliação Preguiçosa**: Em programação funcional, usamos muitas vezes expressões (em vez de comandos) para gerar novos valores, e a avaliação preguiçosa (lazy evaluation) permite a execução de código apenas quando necessário. Python implementa isso parcialmente em iteradores e geradores, que não avaliam elementos até que sejam explicitamente solicitados.\n",
    "\n"
   ]
  },
  {
   "cell_type": "markdown",
   "metadata": {
    "id": "uyc2mV_l5XbR"
   },
   "source": [
    "#### Exemplos:"
   ]
  },
  {
   "cell_type": "code",
   "execution_count": 3,
   "metadata": {
    "id": "R-niBaeEP6x3"
   },
   "outputs": [
    {
     "name": "stdout",
     "output_type": "stream",
     "text": [
      "25\n"
     ]
    },
    {
     "data": {
      "text/plain": [
       "function"
      ]
     },
     "execution_count": 3,
     "metadata": {},
     "output_type": "execute_result"
    }
   ],
   "source": [
    "# Função Lambda\n",
    "## gera o quadrado de um número\n",
    "quadrado = lambda x: x**2\n",
    "print(quadrado(5))\n",
    "type(quadrado)"
   ]
  },
  {
   "cell_type": "code",
   "execution_count": null,
   "metadata": {
    "id": "Cdv5GH5cMkyr"
   },
   "outputs": [
    {
     "name": "stdout",
     "output_type": "stream",
     "text": [
      "[1, 2, 3, 4]\n",
      "[1, 4, 9, 16]\n"
     ]
    }
   ],
   "source": [
    "# Função Lambda: Compreensão de Listas\n",
    "## dado uma lista de inteiros, gerar uma nova lista com cada elemento ao quadrado\n",
    "lista = list(range(1,5))\n",
    "print(lista)\n",
    "quadrados = [(lambda item: item **2)(item) for item in lista] # função anonima dentro de uma compreensão de lista\n",
    "print(quadrados)"
   ]
  },
  {
   "cell_type": "code",
   "execution_count": 8,
   "metadata": {
    "id": "F1ppU37tFcF0"
   },
   "outputs": [
    {
     "name": "stdout",
     "output_type": "stream",
     "text": [
      "[1, 2, 3, 4]\n",
      "[1, 4, 9, 16]\n"
     ]
    }
   ],
   "source": [
    "# Map, Filter e Reduce\n",
    "lista = list(range(1,5))\n",
    "print(lista)\n",
    "quadrados = list(map(lambda item: item**2, lista))\n",
    "print(quadrados)"
   ]
  },
  {
   "cell_type": "code",
   "execution_count": 10,
   "metadata": {},
   "outputs": [
    {
     "name": "stdout",
     "output_type": "stream",
     "text": [
      "[1, 2, 3, 4, 5, 6, 7, 8, 9, 10, 11, 12, 13, 14, 15, 16, 17, 18, 19]\n",
      "[2, 4, 6, 8, 10, 12, 14, 16, 18]\n"
     ]
    }
   ],
   "source": [
    "\"\"\"\n",
    "Dado uma lista de inteiros, aplicar um filtro mantendo somente os elementos pares utilizando a função filter\n",
    "\"\"\"\n",
    "lista = list(range(1,20))\n",
    "print(lista)\n",
    "pares = list(filter(lambda item: item % 2 == 0, lista))\n",
    "print(pares)"
   ]
  },
  {
   "cell_type": "code",
   "execution_count": 15,
   "metadata": {},
   "outputs": [
    {
     "name": "stdout",
     "output_type": "stream",
     "text": [
      "[0, 1, 2, 3, 4, 5, 6, 7, 8, 9]\n",
      "45\n",
      "0 0\n",
      "1 1\n",
      "3 2\n",
      "6 3\n",
      "10 4\n",
      "15 5\n",
      "21 6\n",
      "28 7\n",
      "36 8\n",
      "45 9\n"
     ]
    }
   ],
   "source": [
    "\"\"\"\n",
    "Dado uma lista de inteiros, aplicar um somatório de todos os elementos da lista utilizando a função reduce\n",
    "\"\"\"\n",
    "from functools import reduce\n",
    "\n",
    "lista = list(range(10))\n",
    "print(lista)\n",
    "somatorio = reduce(lambda soma,item: soma+item, lista)\n",
    "print(somatorio)\n",
    "\n",
    "x = 0\n",
    "for item in range(10):\n",
    "    x += item\n",
    "    print(x, item)"
   ]
  },
  {
   "cell_type": "markdown",
   "metadata": {
    "id": "8YOAfeRpNpnr"
   },
   "source": [
    "#### Exemplo com Expressões Regulares"
   ]
  },
  {
   "cell_type": "code",
   "execution_count": 38,
   "metadata": {
    "id": "eccKHEEuFekC"
   },
   "outputs": [],
   "source": [
    "import re\n",
    "\n",
    "# Lista com textos que podem conter números de telefone\n",
    "str = [\n",
    "    \"Segue o contato: (11) 91234-5678\",\n",
    "    \"(21) 1234-5678 é o número do cliente\",\n",
    "    \"11987654321 foi cadastrado com sucesso!\",\n",
    "    \"(31)12345678 é o número do cliente\",\n",
    "    \"Contato: (41) 98765-4321\"\n",
    "]"
   ]
  },
  {
   "cell_type": "code",
   "execution_count": 39,
   "metadata": {},
   "outputs": [
    {
     "name": "stdout",
     "output_type": "stream",
     "text": [
      "['(11) 91234-5678', '(21) 1234-5678', '(41) 98765-4321']\n"
     ]
    }
   ],
   "source": [
    "# Função para buscar números de telefone no formato desejado\n",
    "def extrair_telefone(texto):\n",
    "    # Expressão regular para encontrar os números de telefone no formato desejado\n",
    "    padrao = r'\\(\\d{2}\\)\\s?\\d{4,5}-\\d{4}'\n",
    "    return re.findall(padrao, texto)\n",
    "\n",
    "# Usando programação funcional: map para aplicar a função a cada item da lista e filter para filtrar resultados não vazios\n",
    "telefones_encontrados = list(filter(None, map(extrair_telefone, telefones)))\n",
    "\n",
    "# Flatten a lista de listas resultante e exibir\n",
    "telefones_encontrados = [telefone for sublista in telefones_encontrados for telefone in sublista]\n",
    "\n",
    "# Exibir os resultados\n",
    "print(telefones_encontrados)"
   ]
  },
  {
   "cell_type": "code",
   "execution_count": 43,
   "metadata": {},
   "outputs": [],
   "source": [
    "def validar_telefones(telefones, filtro_telefone):\n",
    "    # filtro nas strings com formato válido\n",
    "    strings_validas = list(filter(filtro_telefone, telefones))\n",
    "    print(strings_validas)\n",
    "    # aplicar o regex para extrair os telefones\n",
    "    regex_tel = r'\\(d{2}\\) \\d{4,5}-\\d{4}'\n",
    "    #extrair telefones\n",
    "    telefones_validos = [re.search(regex_tel, item).group() for item in str]\n",
    "    return telefones_validos"
   ]
  },
  {
   "cell_type": "code",
   "execution_count": 44,
   "metadata": {},
   "outputs": [
    {
     "data": {
      "text/plain": [
       "<function __main__.<lambda>(telefone)>"
      ]
     },
     "execution_count": 44,
     "metadata": {},
     "output_type": "execute_result"
    }
   ],
   "source": [
    "filtro_telefone = lambda telefone: re.search(r'\\(d{2}\\) \\d{4,5}-\\d{4}', str)\n",
    "filtro_telefone"
   ]
  },
  {
   "cell_type": "code",
   "execution_count": 45,
   "metadata": {},
   "outputs": [
    {
     "ename": "TypeError",
     "evalue": "expected string or bytes-like object, got 'list'",
     "output_type": "error",
     "traceback": [
      "\u001b[1;31m---------------------------------------------------------------------------\u001b[0m",
      "\u001b[1;31mTypeError\u001b[0m                                 Traceback (most recent call last)",
      "Cell \u001b[1;32mIn[45], line 1\u001b[0m\n\u001b[1;32m----> 1\u001b[0m validar_telefones(\u001b[38;5;28mstr\u001b[39m, filtro_telefone)\n",
      "Cell \u001b[1;32mIn[43], line 3\u001b[0m, in \u001b[0;36mvalidar_telefones\u001b[1;34m(telefones, filtro_telefone)\u001b[0m\n\u001b[0;32m      1\u001b[0m \u001b[38;5;28;01mdef\u001b[39;00m \u001b[38;5;21mvalidar_telefones\u001b[39m(telefones, filtro_telefone):\n\u001b[0;32m      2\u001b[0m     \u001b[38;5;66;03m# filtro nas strings com formato válido\u001b[39;00m\n\u001b[1;32m----> 3\u001b[0m     strings_validas \u001b[38;5;241m=\u001b[39m \u001b[38;5;28mlist\u001b[39m(\u001b[38;5;28mfilter\u001b[39m(filtro_telefone, telefones))\n\u001b[0;32m      4\u001b[0m     \u001b[38;5;28mprint\u001b[39m(strings_validas)\n\u001b[0;32m      5\u001b[0m     \u001b[38;5;66;03m# aplicar o regex para extrair os telefones\u001b[39;00m\n",
      "Cell \u001b[1;32mIn[44], line 1\u001b[0m, in \u001b[0;36m<lambda>\u001b[1;34m(telefone)\u001b[0m\n\u001b[1;32m----> 1\u001b[0m filtro_telefone \u001b[38;5;241m=\u001b[39m \u001b[38;5;28;01mlambda\u001b[39;00m telefone: re\u001b[38;5;241m.\u001b[39msearch(\u001b[38;5;124mr\u001b[39m\u001b[38;5;124m'\u001b[39m\u001b[38;5;124m\\\u001b[39m\u001b[38;5;124m(d\u001b[39m\u001b[38;5;132;01m{2}\u001b[39;00m\u001b[38;5;124m\\\u001b[39m\u001b[38;5;124m) \u001b[39m\u001b[38;5;124m\\\u001b[39m\u001b[38;5;124md\u001b[39m\u001b[38;5;124m{\u001b[39m\u001b[38;5;124m4,5}-\u001b[39m\u001b[38;5;124m\\\u001b[39m\u001b[38;5;124md\u001b[39m\u001b[38;5;132;01m{4}\u001b[39;00m\u001b[38;5;124m'\u001b[39m, \u001b[38;5;28mstr\u001b[39m)\n\u001b[0;32m      2\u001b[0m filtro_telefone\n",
      "File \u001b[1;32mc:\\USERS\\VINICIUS_VIEIRA\\APPDATA\\LOCAL\\ANACONDA3\\Lib\\re\\__init__.py:177\u001b[0m, in \u001b[0;36msearch\u001b[1;34m(pattern, string, flags)\u001b[0m\n\u001b[0;32m    174\u001b[0m \u001b[38;5;28;01mdef\u001b[39;00m \u001b[38;5;21msearch\u001b[39m(pattern, string, flags\u001b[38;5;241m=\u001b[39m\u001b[38;5;241m0\u001b[39m):\n\u001b[0;32m    175\u001b[0m \u001b[38;5;250m    \u001b[39m\u001b[38;5;124;03m\"\"\"Scan through string looking for a match to the pattern, returning\u001b[39;00m\n\u001b[0;32m    176\u001b[0m \u001b[38;5;124;03m    a Match object, or None if no match was found.\"\"\"\u001b[39;00m\n\u001b[1;32m--> 177\u001b[0m     \u001b[38;5;28;01mreturn\u001b[39;00m _compile(pattern, flags)\u001b[38;5;241m.\u001b[39msearch(string)\n",
      "\u001b[1;31mTypeError\u001b[0m: expected string or bytes-like object, got 'list'"
     ]
    }
   ],
   "source": [
    "validar_telefones(str, filtro_telefone)"
   ]
  },
  {
   "cell_type": "code",
   "execution_count": null,
   "metadata": {},
   "outputs": [],
   "source": []
  }
 ],
 "metadata": {
  "colab": {
   "provenance": []
  },
  "kernelspec": {
   "display_name": "base",
   "language": "python",
   "name": "python3"
  },
  "language_info": {
   "codemirror_mode": {
    "name": "ipython",
    "version": 3
   },
   "file_extension": ".py",
   "mimetype": "text/x-python",
   "name": "python",
   "nbconvert_exporter": "python",
   "pygments_lexer": "ipython3",
   "version": "3.12.4"
  }
 },
 "nbformat": 4,
 "nbformat_minor": 0
}
