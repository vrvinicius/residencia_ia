{
 "cells": [
  {
   "cell_type": "markdown",
   "metadata": {
    "id": "Td0q13pAR17u"
   },
   "source": [
    "#### **Introdução ao Pandas**\n",
    "\n",
    "- **Conteúdos**:\n",
    "  - Pandas é uma biblioteca Python para análise de dados, muito popular na ciência de dados e na análise de dados devido à sua eficiência e facilidade de uso.\n",
    "  - Os principais objetos de Pandas são:\n",
    "    - `Series`: Representa uma única coluna de dados.\n",
    "    - `DataFrame`: Tabela de dados composta por várias colunas, similar a uma planilha do Excel.\n",
    "\n",
    "- **Instalação** (caso ainda não esteja instalada):\n",
    "  ```python\n",
    "  !pip install pandas\n",
    "  ```\n",
    "\n",
    "- **Importando Pandas**:\n",
    "  ```python\n",
    "  import pandas as pd\n",
    "  ```\n"
   ]
  },
  {
   "cell_type": "markdown",
   "metadata": {
    "id": "_s6lfa49R66e"
   },
   "source": [
    "#### **Carregando Dados**\n",
    "\n",
    "- **Principais Funções**:\n",
    "  - Pandas permite carregar dados de diversas fontes (CSV, Excel, JSON, SQL).\n",
    "  - Principais métodos para carregar dados:\n",
    "    - `pd.read_csv('nome_do_arquivo.csv')`\n",
    "    - `pd.read_excel('nome_do_arquivo.xlsx')`\n",
    "    - `pd.read_json('nome_do_arquivo.json')`\n",
    "\n",
    "- **Explorando o DataFrame**:\n",
    "  - Visualizar as primeiras linhas (cabeçalho da tabela):\n",
    "    ```python\n",
    "    df.head()\n",
    "    ```\n",
    "  - Visualizar as últimas linhas (rodapé da tabela):\n",
    "    ```python\n",
    "    df.tail()\n",
    "    ```\n",
    "  - Obter informações gerais do DataFrame, como o número de linhas, colunas e tipos de dados:\n",
    "    ```python\n",
    "    df.info()\n",
    "    ```\n",
    "  - Obter uma visão estatística básica, como médias, desvio padrão e valores mínimos e máximos das colunas numéricas:\n",
    "    ```python\n",
    "    df.describe()\n",
    "    ```\n",
    "  - Verificar o formato do DataFrame (quantidade de linhas e colunas):\n",
    "    ```python\n",
    "    df.shape\n",
    "    ```\n",
    "  - Listar os nomes das colunas:\n",
    "    ```python\n",
    "    df.columns\n",
    "    ```\n",
    "\n"
   ]
  },
  {
   "cell_type": "markdown",
   "metadata": {
    "id": "uF-DSl9nRh5x"
   },
   "source": [
    "\n",
    "#### **Estrutura e Seleção de Dados**\n",
    "\n",
    "- **Acessar colunas**:\n",
    "    - Acessar uma única coluna:\n",
    "      ```python\n",
    "      df['nome_da_coluna']\n",
    "      ```\n",
    "    - Acessar múltiplas colunas:\n",
    "      ```python\n",
    "      df[['coluna1', 'coluna2']]\n",
    "      ```\n",
    "  \n",
    "  - **Exemplo**:\n",
    "    - Se temos uma coluna chamada `artist` com o nome dos artistas e uma coluna `popularity` com a popularidade das músicas, podemos selecionar apenas essas colunas:\n",
    "\n",
    "      ```python\n",
    "      df[['artist', 'popularity']]\n",
    "      ```\n",
    "   - **Filtragem de dados**:\n",
    "    - Filtrar as linhas com base em uma condição:\n",
    "      ```python\n",
    "      df[df['popularity'] > 80]\n",
    "      ```\n",
    "    - Combinar condições (usando `&` para \"e\" e `|` para \"ou\"):\n",
    "      ```python\n",
    "      df[(df['popularity'] > 80) & (df['artist'] == 'Frank Sinatra')]\n",
    "      ```\n",
    "   \n",
    "  "
   ]
  },
  {
   "cell_type": "markdown",
   "metadata": {
    "id": "bKKPgftYkyZu"
   },
   "source": [
    "### Funções de seleção `loc`e `iloc`:\n",
    "`loc` e `iloc`: são usadas para acessar e manipular dados em um DataFrame no Pandas:\n",
    "\n",
    "### **`loc`**: Seleção por Rótulo\n",
    "\n",
    "- `loc` é usado para acessar dados com base nos rótulos dos índices (nomes das linhas e colunas).\n",
    "\n",
    "```python\n",
    "# Exemplo com rótulos de linhas e colunas\n",
    "df.loc['rótulo_linha', 'rótulo_coluna']\n",
    "```\n"
   ]
  },
  {
   "cell_type": "markdown",
   "metadata": {
    "id": "bdvkXWzEyJ5K"
   },
   "source": [
    "### **`iloc`**: Seleção por Posição Inteira\n",
    "\n",
    "- **Descrição**: `iloc` é usado para acessar dados com base na posição numérica (inteiros) das linhas e colunas.\n",
    "\n",
    "```python\n",
    "# Exemplo com índices numéricos para linhas e colunas\n",
    "df.iloc[1, 2]\n",
    "```\n"
   ]
  },
  {
   "cell_type": "markdown",
   "metadata": {
    "id": "aknT8a-ezS-P"
   },
   "source": [
    "### **Criando DataFrames Manualmente**\n",
    "\n",
    "\n"
   ]
  },
  {
   "cell_type": "code",
   "execution_count": 9,
   "metadata": {},
   "outputs": [],
   "source": [
    "import pandas as pd"
   ]
  },
  {
   "cell_type": "code",
   "execution_count": null,
   "metadata": {
    "id": "8_g7KH3ozYUt"
   },
   "outputs": [],
   "source": [
    "#dataframe com foco em artistas musicais (spotify)\n",
    "# colunas: artista, categoria, album, ano, popularidade\n",
    "## lista de listas\n",
    "\n",
    "data = [\n",
    "    ['Zé Ramalho', 'MPB', 'ZYX', 1970, 80],\n",
    "    ['Raul Seixas', 'Rock', 'ABC', 1980, 90],\n",
    "    ['Frank Sinatra', 'Jazz', '123', 1975, 100],\n",
    "    ['BB King', 'Blues', 'AGR', 1971, 90]\n",
    "]"
   ]
  },
  {
   "cell_type": "code",
   "execution_count": 10,
   "metadata": {
    "id": "gZS26n3hy3Ub"
   },
   "outputs": [
    {
     "data": {
      "text/html": [
       "<div>\n",
       "<style scoped>\n",
       "    .dataframe tbody tr th:only-of-type {\n",
       "        vertical-align: middle;\n",
       "    }\n",
       "\n",
       "    .dataframe tbody tr th {\n",
       "        vertical-align: top;\n",
       "    }\n",
       "\n",
       "    .dataframe thead th {\n",
       "        text-align: right;\n",
       "    }\n",
       "</style>\n",
       "<table border=\"1\" class=\"dataframe\">\n",
       "  <thead>\n",
       "    <tr style=\"text-align: right;\">\n",
       "      <th></th>\n",
       "      <th>nome</th>\n",
       "      <th>estilo</th>\n",
       "      <th>album</th>\n",
       "      <th>ano_lancamento</th>\n",
       "      <th>popularidade</th>\n",
       "    </tr>\n",
       "  </thead>\n",
       "  <tbody>\n",
       "    <tr>\n",
       "      <th>0</th>\n",
       "      <td>Zé Ramalho</td>\n",
       "      <td>MPB</td>\n",
       "      <td>ZYX</td>\n",
       "      <td>1970</td>\n",
       "      <td>80</td>\n",
       "    </tr>\n",
       "    <tr>\n",
       "      <th>1</th>\n",
       "      <td>Raul Seixas</td>\n",
       "      <td>Rock</td>\n",
       "      <td>ABC</td>\n",
       "      <td>1980</td>\n",
       "      <td>90</td>\n",
       "    </tr>\n",
       "    <tr>\n",
       "      <th>2</th>\n",
       "      <td>Frank Sinatra</td>\n",
       "      <td>Jazz</td>\n",
       "      <td>123</td>\n",
       "      <td>1975</td>\n",
       "      <td>100</td>\n",
       "    </tr>\n",
       "    <tr>\n",
       "      <th>3</th>\n",
       "      <td>BB King</td>\n",
       "      <td>Blues</td>\n",
       "      <td>AGR</td>\n",
       "      <td>1971</td>\n",
       "      <td>90</td>\n",
       "    </tr>\n",
       "  </tbody>\n",
       "</table>\n",
       "</div>"
      ],
      "text/plain": [
       "            nome estilo album  ano_lancamento  popularidade\n",
       "0     Zé Ramalho    MPB   ZYX            1970            80\n",
       "1    Raul Seixas   Rock   ABC            1980            90\n",
       "2  Frank Sinatra   Jazz   123            1975           100\n",
       "3        BB King  Blues   AGR            1971            90"
      ]
     },
     "execution_count": 10,
     "metadata": {},
     "output_type": "execute_result"
    }
   ],
   "source": [
    "df = pd.DataFrame(data, columns=['nome', 'estilo', 'album', 'ano_lancamento', 'popularidade'])\n",
    "df"
   ]
  },
  {
   "cell_type": "code",
   "execution_count": 19,
   "metadata": {},
   "outputs": [],
   "source": [
    "#dataframe com foco em artistas musicais (spotify)\n",
    "# colunas: artista, categoria, album, ano, popularidade\n",
    "## Dicionário: chave, lista\n",
    "\n",
    "data_dicionario = {\n",
    "    'nome': ['Zé Ramalho', 'Raul Seixas', 'Frank Sinatra', 'BB King'],\n",
    "    'estilo':['MPB', 'Rock', 'Jazz', 'Blues'],\n",
    "    'album':['ZYX', 'ABC', '123', 'AGR'],\n",
    "    'ano_lancamento': [1970, 1980, 1975, 1971],\n",
    "    'popularidade': [80, 90, 100, 90]\n",
    "}"
   ]
  },
  {
   "cell_type": "code",
   "execution_count": 26,
   "metadata": {
    "id": "tKZjX9QZy654"
   },
   "outputs": [
    {
     "data": {
      "text/html": [
       "<div>\n",
       "<style scoped>\n",
       "    .dataframe tbody tr th:only-of-type {\n",
       "        vertical-align: middle;\n",
       "    }\n",
       "\n",
       "    .dataframe tbody tr th {\n",
       "        vertical-align: top;\n",
       "    }\n",
       "\n",
       "    .dataframe thead th {\n",
       "        text-align: right;\n",
       "    }\n",
       "</style>\n",
       "<table border=\"1\" class=\"dataframe\">\n",
       "  <thead>\n",
       "    <tr style=\"text-align: right;\">\n",
       "      <th></th>\n",
       "      <th>nome</th>\n",
       "      <th>estilo</th>\n",
       "      <th>album</th>\n",
       "      <th>ano_lancamento</th>\n",
       "      <th>popularidade</th>\n",
       "    </tr>\n",
       "  </thead>\n",
       "  <tbody>\n",
       "    <tr>\n",
       "      <th>0</th>\n",
       "      <td>Zé Ramalho</td>\n",
       "      <td>MPB</td>\n",
       "      <td>ZYX</td>\n",
       "      <td>1970</td>\n",
       "      <td>80</td>\n",
       "    </tr>\n",
       "    <tr>\n",
       "      <th>1</th>\n",
       "      <td>Raul Seixas</td>\n",
       "      <td>Rock</td>\n",
       "      <td>ABC</td>\n",
       "      <td>1980</td>\n",
       "      <td>90</td>\n",
       "    </tr>\n",
       "    <tr>\n",
       "      <th>2</th>\n",
       "      <td>Frank Sinatra</td>\n",
       "      <td>Jazz</td>\n",
       "      <td>123</td>\n",
       "      <td>1975</td>\n",
       "      <td>100</td>\n",
       "    </tr>\n",
       "    <tr>\n",
       "      <th>3</th>\n",
       "      <td>BB King</td>\n",
       "      <td>Blues</td>\n",
       "      <td>AGR</td>\n",
       "      <td>1971</td>\n",
       "      <td>90</td>\n",
       "    </tr>\n",
       "  </tbody>\n",
       "</table>\n",
       "</div>"
      ],
      "text/plain": [
       "            nome estilo album  ano_lancamento  popularidade\n",
       "0     Zé Ramalho    MPB   ZYX            1970            80\n",
       "1    Raul Seixas   Rock   ABC            1980            90\n",
       "2  Frank Sinatra   Jazz   123            1975           100\n",
       "3        BB King  Blues   AGR            1971            90"
      ]
     },
     "execution_count": 26,
     "metadata": {},
     "output_type": "execute_result"
    }
   ],
   "source": [
    "df = pd.DataFrame(data_dicionario)\n",
    "df"
   ]
  },
  {
   "cell_type": "code",
   "execution_count": 27,
   "metadata": {},
   "outputs": [
    {
     "data": {
      "text/plain": [
       "0       Zé Ramalho\n",
       "1      Raul Seixas\n",
       "2    Frank Sinatra\n",
       "3          BB King\n",
       "Name: nome, dtype: object"
      ]
     },
     "execution_count": 27,
     "metadata": {},
     "output_type": "execute_result"
    }
   ],
   "source": [
    "# acesso aos dados\n",
    "\n",
    "df['nome']"
   ]
  },
  {
   "cell_type": "code",
   "execution_count": 29,
   "metadata": {},
   "outputs": [
    {
     "data": {
      "text/html": [
       "<div>\n",
       "<style scoped>\n",
       "    .dataframe tbody tr th:only-of-type {\n",
       "        vertical-align: middle;\n",
       "    }\n",
       "\n",
       "    .dataframe tbody tr th {\n",
       "        vertical-align: top;\n",
       "    }\n",
       "\n",
       "    .dataframe thead th {\n",
       "        text-align: right;\n",
       "    }\n",
       "</style>\n",
       "<table border=\"1\" class=\"dataframe\">\n",
       "  <thead>\n",
       "    <tr style=\"text-align: right;\">\n",
       "      <th></th>\n",
       "      <th>nome</th>\n",
       "      <th>popularidade</th>\n",
       "    </tr>\n",
       "  </thead>\n",
       "  <tbody>\n",
       "    <tr>\n",
       "      <th>0</th>\n",
       "      <td>Zé Ramalho</td>\n",
       "      <td>80</td>\n",
       "    </tr>\n",
       "    <tr>\n",
       "      <th>1</th>\n",
       "      <td>Raul Seixas</td>\n",
       "      <td>90</td>\n",
       "    </tr>\n",
       "    <tr>\n",
       "      <th>2</th>\n",
       "      <td>Frank Sinatra</td>\n",
       "      <td>100</td>\n",
       "    </tr>\n",
       "    <tr>\n",
       "      <th>3</th>\n",
       "      <td>BB King</td>\n",
       "      <td>90</td>\n",
       "    </tr>\n",
       "  </tbody>\n",
       "</table>\n",
       "</div>"
      ],
      "text/plain": [
       "            nome  popularidade\n",
       "0     Zé Ramalho            80\n",
       "1    Raul Seixas            90\n",
       "2  Frank Sinatra           100\n",
       "3        BB King            90"
      ]
     },
     "execution_count": 29,
     "metadata": {},
     "output_type": "execute_result"
    }
   ],
   "source": [
    "# combinando colunas\n",
    "\n",
    "df[['nome', 'popularidade']]"
   ]
  },
  {
   "cell_type": "code",
   "execution_count": 31,
   "metadata": {},
   "outputs": [
    {
     "data": {
      "text/html": [
       "<div>\n",
       "<style scoped>\n",
       "    .dataframe tbody tr th:only-of-type {\n",
       "        vertical-align: middle;\n",
       "    }\n",
       "\n",
       "    .dataframe tbody tr th {\n",
       "        vertical-align: top;\n",
       "    }\n",
       "\n",
       "    .dataframe thead th {\n",
       "        text-align: right;\n",
       "    }\n",
       "</style>\n",
       "<table border=\"1\" class=\"dataframe\">\n",
       "  <thead>\n",
       "    <tr style=\"text-align: right;\">\n",
       "      <th></th>\n",
       "      <th>nome</th>\n",
       "      <th>estilo</th>\n",
       "      <th>album</th>\n",
       "      <th>ano_lancamento</th>\n",
       "      <th>popularidade</th>\n",
       "    </tr>\n",
       "  </thead>\n",
       "  <tbody>\n",
       "    <tr>\n",
       "      <th>1</th>\n",
       "      <td>Raul Seixas</td>\n",
       "      <td>Rock</td>\n",
       "      <td>ABC</td>\n",
       "      <td>1980</td>\n",
       "      <td>90</td>\n",
       "    </tr>\n",
       "    <tr>\n",
       "      <th>2</th>\n",
       "      <td>Frank Sinatra</td>\n",
       "      <td>Jazz</td>\n",
       "      <td>123</td>\n",
       "      <td>1975</td>\n",
       "      <td>100</td>\n",
       "    </tr>\n",
       "    <tr>\n",
       "      <th>3</th>\n",
       "      <td>BB King</td>\n",
       "      <td>Blues</td>\n",
       "      <td>AGR</td>\n",
       "      <td>1971</td>\n",
       "      <td>90</td>\n",
       "    </tr>\n",
       "  </tbody>\n",
       "</table>\n",
       "</div>"
      ],
      "text/plain": [
       "            nome estilo album  ano_lancamento  popularidade\n",
       "1    Raul Seixas   Rock   ABC            1980            90\n",
       "2  Frank Sinatra   Jazz   123            1975           100\n",
       "3        BB King  Blues   AGR            1971            90"
      ]
     },
     "execution_count": 31,
     "metadata": {},
     "output_type": "execute_result"
    }
   ],
   "source": [
    "# filtros por operadores\n",
    "\n",
    "df[df['popularidade'] > 80]"
   ]
  },
  {
   "cell_type": "code",
   "execution_count": null,
   "metadata": {},
   "outputs": [
    {
     "data": {
      "text/html": [
       "<div>\n",
       "<style scoped>\n",
       "    .dataframe tbody tr th:only-of-type {\n",
       "        vertical-align: middle;\n",
       "    }\n",
       "\n",
       "    .dataframe tbody tr th {\n",
       "        vertical-align: top;\n",
       "    }\n",
       "\n",
       "    .dataframe thead th {\n",
       "        text-align: right;\n",
       "    }\n",
       "</style>\n",
       "<table border=\"1\" class=\"dataframe\">\n",
       "  <thead>\n",
       "    <tr style=\"text-align: right;\">\n",
       "      <th></th>\n",
       "      <th>nome</th>\n",
       "      <th>ano_lancamento</th>\n",
       "    </tr>\n",
       "  </thead>\n",
       "  <tbody>\n",
       "    <tr>\n",
       "      <th>1</th>\n",
       "      <td>Raul Seixas</td>\n",
       "      <td>1980</td>\n",
       "    </tr>\n",
       "    <tr>\n",
       "      <th>2</th>\n",
       "      <td>Frank Sinatra</td>\n",
       "      <td>1975</td>\n",
       "    </tr>\n",
       "    <tr>\n",
       "      <th>3</th>\n",
       "      <td>BB King</td>\n",
       "      <td>1971</td>\n",
       "    </tr>\n",
       "  </tbody>\n",
       "</table>\n",
       "</div>"
      ],
      "text/plain": [
       "            nome  ano_lancamento\n",
       "1    Raul Seixas            1980\n",
       "2  Frank Sinatra            1975\n",
       "3        BB King            1971"
      ]
     },
     "execution_count": 36,
     "metadata": {},
     "output_type": "execute_result"
    }
   ],
   "source": [
    "# selecao por por rotulos com loc\n",
    "\n",
    "df.loc[1:3,['nome', 'ano_lancamento']]\n"
   ]
  },
  {
   "cell_type": "code",
   "execution_count": 37,
   "metadata": {},
   "outputs": [
    {
     "data": {
      "text/html": [
       "<div>\n",
       "<style scoped>\n",
       "    .dataframe tbody tr th:only-of-type {\n",
       "        vertical-align: middle;\n",
       "    }\n",
       "\n",
       "    .dataframe tbody tr th {\n",
       "        vertical-align: top;\n",
       "    }\n",
       "\n",
       "    .dataframe thead th {\n",
       "        text-align: right;\n",
       "    }\n",
       "</style>\n",
       "<table border=\"1\" class=\"dataframe\">\n",
       "  <thead>\n",
       "    <tr style=\"text-align: right;\">\n",
       "      <th></th>\n",
       "      <th>nome</th>\n",
       "      <th>estilo</th>\n",
       "    </tr>\n",
       "  </thead>\n",
       "  <tbody>\n",
       "    <tr>\n",
       "      <th>0</th>\n",
       "      <td>Zé Ramalho</td>\n",
       "      <td>MPB</td>\n",
       "    </tr>\n",
       "    <tr>\n",
       "      <th>1</th>\n",
       "      <td>Raul Seixas</td>\n",
       "      <td>Rock</td>\n",
       "    </tr>\n",
       "  </tbody>\n",
       "</table>\n",
       "</div>"
      ],
      "text/plain": [
       "          nome estilo\n",
       "0   Zé Ramalho    MPB\n",
       "1  Raul Seixas   Rock"
      ]
     },
     "execution_count": 37,
     "metadata": {},
     "output_type": "execute_result"
    }
   ],
   "source": [
    "# selecao por indices com iloc\n",
    "\n",
    "df.iloc[0:2, 0:2]"
   ]
  },
  {
   "cell_type": "code",
   "execution_count": null,
   "metadata": {},
   "outputs": [],
   "source": []
  }
 ],
 "metadata": {
  "colab": {
   "provenance": []
  },
  "kernelspec": {
   "display_name": "base",
   "language": "python",
   "name": "python3"
  },
  "language_info": {
   "codemirror_mode": {
    "name": "ipython",
    "version": 3
   },
   "file_extension": ".py",
   "mimetype": "text/x-python",
   "name": "python",
   "nbconvert_exporter": "python",
   "pygments_lexer": "ipython3",
   "version": "3.12.4"
  }
 },
 "nbformat": 4,
 "nbformat_minor": 0
}
