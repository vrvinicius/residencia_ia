{
 "cells": [
  {
   "cell_type": "code",
   "execution_count": 85,
   "metadata": {},
   "outputs": [
    {
     "name": "stdout",
     "output_type": "stream",
     "text": [
      "[3, 4, 5, 6, 7, 8, 5, 6, 7, 8, 9, 10, 6, 7, 8, 9, 10, 11, 7, 8, 9, 10, 11, 12, 8, 9, 10, 11, 12, 13, 9, 10, 11, 12, 13, 14]\n"
     ]
    }
   ],
   "source": [
    "# list comprehension\n",
    "# multiplicacao de listas\n",
    "lista1 = [2,4,5,6,7,8]\n",
    "lista2 = [1,2,3,4,5,6]\n",
    "lista3 = [valor1+valor2 for valor1 in lista1 for valor2 in lista2]\n",
    "print(lista3)"
   ]
  },
  {
   "cell_type": "code",
   "execution_count": 86,
   "metadata": {},
   "outputs": [
    {
     "name": "stdout",
     "output_type": "stream",
     "text": [
      "[0, 1, 4, 9, 16, 25, 36, 49, 64, 81, 100, 121, 144, 169, 196, 225, 256, 289, 324, 361, 400, 441, 484, 529, 576, 625, 676, 729, 784, 841, 900, 961, 1024, 1089, 1156, 1225, 1296, 1369, 1444, 1521, 1600, 1681, 1764, 1849, 1936, 2025, 2116, 2209, 2304, 2401, 2500, 2601, 2704, 2809, 2916, 3025, 3136, 3249, 3364, 3481, 3600, 3721, 3844, 3969, 4096, 4225, 4356, 4489, 4624, 4761, 4900, 5041, 5184, 5329, 5476, 5625, 5776, 5929, 6084, 6241, 6400, 6561, 6724, 6889, 7056, 7225, 7396, 7569, 7744, 7921, 8100, 8281, 8464, 8649, 8836, 9025, 9216, 9409, 9604, 9801]\n"
     ]
    }
   ],
   "source": [
    "#generator\n",
    "\n",
    "lista1 = [valor**2 for valor in range(100)]\n",
    "print(lista1)"
   ]
  },
  {
   "cell_type": "code",
   "execution_count": 87,
   "metadata": {},
   "outputs": [
    {
     "name": "stdout",
     "output_type": "stream",
     "text": [
      "<generator object <genexpr> at 0x0000025B050DD8A0>\n"
     ]
    }
   ],
   "source": [
    "lista1_generator = (valor**2 for valor in range(100))\n",
    "print(lista1_generator) #ele não salva o valor na memoria. vc puxa ele no comando"
   ]
  },
  {
   "cell_type": "code",
   "execution_count": 88,
   "metadata": {},
   "outputs": [
    {
     "name": "stdout",
     "output_type": "stream",
     "text": [
      "920\n",
      "200\n"
     ]
    }
   ],
   "source": [
    "import sys\n",
    "print(sys.getsizeof(lista1))\n",
    "print(sys.getsizeof(lista1_generator))"
   ]
  },
  {
   "cell_type": "code",
   "execution_count": 89,
   "metadata": {},
   "outputs": [
    {
     "name": "stdout",
     "output_type": "stream",
     "text": [
      "0\n"
     ]
    }
   ],
   "source": [
    "print(next(lista1_generator)) # a cada execução do código ele vai pro próximo argumento do iterável"
   ]
  },
  {
   "cell_type": "code",
   "execution_count": 90,
   "metadata": {},
   "outputs": [
    {
     "name": "stdout",
     "output_type": "stream",
     "text": [
      "1\n",
      "4\n",
      "9\n",
      "16\n",
      "25\n",
      "36\n",
      "49\n",
      "64\n",
      "81\n",
      "100\n",
      "121\n",
      "144\n",
      "169\n",
      "196\n",
      "225\n",
      "256\n",
      "289\n",
      "324\n",
      "361\n",
      "400\n",
      "441\n",
      "484\n",
      "529\n",
      "576\n",
      "625\n",
      "676\n",
      "729\n",
      "784\n",
      "841\n",
      "900\n",
      "961\n",
      "1024\n",
      "1089\n",
      "1156\n",
      "1225\n",
      "1296\n",
      "1369\n",
      "1444\n",
      "1521\n",
      "1600\n",
      "1681\n",
      "1764\n",
      "1849\n",
      "1936\n",
      "2025\n",
      "2116\n",
      "2209\n",
      "2304\n",
      "2401\n",
      "2500\n",
      "2601\n",
      "2704\n",
      "2809\n",
      "2916\n",
      "3025\n",
      "3136\n",
      "3249\n",
      "3364\n",
      "3481\n",
      "3600\n",
      "3721\n",
      "3844\n",
      "3969\n",
      "4096\n",
      "4225\n",
      "4356\n",
      "4489\n",
      "4624\n",
      "4761\n",
      "4900\n",
      "5041\n",
      "5184\n",
      "5329\n",
      "5476\n",
      "5625\n",
      "5776\n",
      "5929\n",
      "6084\n",
      "6241\n",
      "6400\n",
      "6561\n",
      "6724\n",
      "6889\n",
      "7056\n",
      "7225\n",
      "7396\n",
      "7569\n",
      "7744\n",
      "7921\n",
      "8100\n",
      "8281\n",
      "8464\n",
      "8649\n",
      "8836\n",
      "9025\n",
      "9216\n",
      "9409\n",
      "9604\n",
      "9801\n"
     ]
    }
   ],
   "source": [
    "for valor in lista1_generator:\n",
    "    print(valor)"
   ]
  },
  {
   "cell_type": "markdown",
   "metadata": {},
   "source": [
    "# Itertools\n",
    "\n",
    "Forma mais otimizada de passar por iteráveis\n"
   ]
  },
  {
   "cell_type": "markdown",
   "metadata": {},
   "source": []
  },
  {
   "cell_type": "code",
   "execution_count": 91,
   "metadata": {},
   "outputs": [
    {
     "name": "stdout",
     "output_type": "stream",
     "text": [
      "<itertools.chain object at 0x0000025B0505B250>\n"
     ]
    }
   ],
   "source": [
    "import itertools as it\n",
    "lista1 = [1,2,3,4]\n",
    "lista2 = [5,6,7,8]\n",
    "lista3 = it.chain(lista1, lista2)\n",
    "print(lista3)"
   ]
  },
  {
   "cell_type": "code",
   "execution_count": 92,
   "metadata": {},
   "outputs": [
    {
     "name": "stdout",
     "output_type": "stream",
     "text": [
      "48\n"
     ]
    }
   ],
   "source": [
    "print(sys.getsizeof(lista3))"
   ]
  },
  {
   "cell_type": "code",
   "execution_count": 93,
   "metadata": {},
   "outputs": [
    {
     "name": "stdout",
     "output_type": "stream",
     "text": [
      "1\n",
      "2\n",
      "3\n",
      "4\n",
      "5\n",
      "6\n",
      "7\n",
      "8\n"
     ]
    }
   ],
   "source": [
    "for i in lista3:\n",
    "    print(i)"
   ]
  },
  {
   "cell_type": "code",
   "execution_count": 94,
   "metadata": {},
   "outputs": [],
   "source": [
    "lista = it.permutations([1,2,3,4], 2)\n",
    "\n",
    "# print(list(lista))"
   ]
  },
  {
   "cell_type": "code",
   "execution_count": 95,
   "metadata": {},
   "outputs": [
    {
     "name": "stdout",
     "output_type": "stream",
     "text": [
      "[(1, 2), (1, 3), (1, 4), (2, 1), (2, 3), (2, 4), (3, 1), (3, 2), (3, 4), (4, 1), (4, 2), (4, 3)]\n"
     ]
    }
   ],
   "source": [
    "lista2 = []\n",
    "for i in lista:\n",
    "    lista2.append(i)    \n",
    "print(lista2)"
   ]
  },
  {
   "cell_type": "code",
   "execution_count": 96,
   "metadata": {},
   "outputs": [
    {
     "name": "stdout",
     "output_type": "stream",
     "text": [
      "[(1, 1), (1, 2), (1, 3), (1, 4), (1, 5), (2, 2), (2, 3), (2, 4), (2, 5), (3, 3), (3, 4), (3, 5), (4, 4), (4, 5), (5, 5)]\n"
     ]
    }
   ],
   "source": [
    "# combinations\n",
    "\n",
    "lista = it.combinations_with_replacement([1,2,3,4,5],2)\n",
    "print(list(lista))"
   ]
  },
  {
   "cell_type": "code",
   "execution_count": 97,
   "metadata": {},
   "outputs": [
    {
     "name": "stdout",
     "output_type": "stream",
     "text": [
      "[3, 4, 5]\n"
     ]
    }
   ],
   "source": [
    "# islice\n",
    "lista = it.islice([1,2,3,4,5,6,7],2,5,1)\n",
    "print(list(lista))"
   ]
  },
  {
   "cell_type": "code",
   "execution_count": 98,
   "metadata": {},
   "outputs": [
    {
     "name": "stdout",
     "output_type": "stream",
     "text": [
      "[(1, 'a'), (2, 'b'), (3, 'null')]\n"
     ]
    }
   ],
   "source": [
    "# zip_longest\n",
    "\n",
    "lista1 = [1,2,3]\n",
    "lista2 = ['a','b']\n",
    "lista3 = it.zip_longest(lista1, lista2, fillvalue='null')\n",
    "print(list(lista3))"
   ]
  },
  {
   "cell_type": "markdown",
   "metadata": {},
   "source": [
    "# Dicionários e conjuntos"
   ]
  },
  {
   "cell_type": "code",
   "execution_count": 99,
   "metadata": {},
   "outputs": [
    {
     "name": "stdout",
     "output_type": "stream",
     "text": [
      "{'Jose': 20, 'Ana': 30, 'Maria': 19}\n"
     ]
    }
   ],
   "source": [
    "#criando um dicionario\n",
    "# d1 = {} ou dict()\n",
    "d1 = {'Jose':20, 'Ana':30,'Maria':19}\n",
    "print(d1)"
   ]
  },
  {
   "cell_type": "code",
   "execution_count": 100,
   "metadata": {},
   "outputs": [
    {
     "data": {
      "text/plain": [
       "dict"
      ]
     },
     "execution_count": 100,
     "metadata": {},
     "output_type": "execute_result"
    }
   ],
   "source": [
    "type(d1)"
   ]
  },
  {
   "cell_type": "code",
   "execution_count": 101,
   "metadata": {},
   "outputs": [
    {
     "name": "stdout",
     "output_type": "stream",
     "text": [
      "20\n"
     ]
    }
   ],
   "source": [
    "# acessando valores\n",
    "print(d1['Jose'])"
   ]
  },
  {
   "cell_type": "code",
   "execution_count": 102,
   "metadata": {},
   "outputs": [
    {
     "name": "stdout",
     "output_type": "stream",
     "text": [
      "{'Jose': 25, 'Ana': 30, 'Maria': 19}\n"
     ]
    }
   ],
   "source": [
    "#alterando valores\n",
    "d1['Jose'] = 25\n",
    "print(d1)"
   ]
  },
  {
   "cell_type": "code",
   "execution_count": 103,
   "metadata": {},
   "outputs": [
    {
     "name": "stdout",
     "output_type": "stream",
     "text": [
      "{'Jose': 25, 'Ana': 30, 'Maria': 19, 'Joao': 40, 'Paula': 22}\n"
     ]
    }
   ],
   "source": [
    "# adionando valores\n",
    "d1['Joao'] = 40\n",
    "d1['Paula'] = 22\n",
    "print(d1)"
   ]
  },
  {
   "cell_type": "code",
   "execution_count": 104,
   "metadata": {},
   "outputs": [
    {
     "name": "stdout",
     "output_type": "stream",
     "text": [
      "{'Ana': 30, 'Maria': 19, 'Joao': 40, 'Paula': 22}\n"
     ]
    }
   ],
   "source": [
    "# removendo item\n",
    "del d1['Jose']\n",
    "print(d1)"
   ]
  },
  {
   "cell_type": "code",
   "execution_count": 105,
   "metadata": {},
   "outputs": [
    {
     "name": "stdout",
     "output_type": "stream",
     "text": [
      "Ana\n",
      "Maria\n",
      "Joao\n",
      "Paula\n"
     ]
    }
   ],
   "source": [
    "## uteis\n",
    "# retorna todas as chaves\n",
    "for key in d1:\n",
    "    print(key)"
   ]
  },
  {
   "cell_type": "code",
   "execution_count": 106,
   "metadata": {},
   "outputs": [
    {
     "name": "stdout",
     "output_type": "stream",
     "text": [
      "30\n",
      "19\n",
      "40\n",
      "22\n"
     ]
    }
   ],
   "source": [
    "#retorna valores\n",
    "for valor in d1.values():\n",
    "    print(valor)"
   ]
  },
  {
   "cell_type": "code",
   "execution_count": 110,
   "metadata": {},
   "outputs": [
    {
     "name": "stdout",
     "output_type": "stream",
     "text": [
      "('Ana', 30)\n",
      "('Maria', 19)\n",
      "('Joao', 40)\n",
      "('Paula', 22)\n",
      "Ana 30\n",
      "Maria 19\n",
      "Joao 40\n",
      "Paula 22\n",
      "Ana 30\n",
      "Maria 19\n",
      "Joao 40\n",
      "Paula 22\n"
     ]
    }
   ],
   "source": [
    "#retorna uma lista de tuplas\n",
    "for valor in d1.items():\n",
    "    print(valor)\n",
    "\n",
    "for ch, val in d1.items():\n",
    "    print(ch,val)\n",
    "\n",
    "for ch, val in zip(d1.keys(), d1.values()):\n",
    "    print(ch,val)"
   ]
  },
  {
   "cell_type": "code",
   "execution_count": 111,
   "metadata": {},
   "outputs": [
    {
     "name": "stdout",
     "output_type": "stream",
     "text": [
      "('param1', [1, 2, 3, 4])\n",
      "('param2', 'Programando python')\n"
     ]
    }
   ],
   "source": [
    "d2 = {\n",
    "    'param1':[1,2,3,4],\n",
    "    'param2':\"Programando python\"\n",
    "}\n",
    "\n",
    "for i in d2.items():\n",
    "    print(i)"
   ]
  },
  {
   "cell_type": "markdown",
   "metadata": {},
   "source": [
    "## operações com conjuntos"
   ]
  },
  {
   "cell_type": "code",
   "execution_count": 118,
   "metadata": {},
   "outputs": [
    {
     "name": "stdout",
     "output_type": "stream",
     "text": [
      "{1, 2, 67, 3, 5, 7, 40}\n",
      "{1, 2, 67, 3, 5, 7, 40, 30}\n",
      "{1, 2, 67, 3, 5, 7, 30}\n"
     ]
    }
   ],
   "source": [
    "# criando um conjunto\n",
    "#c1 = set() or {1,2} - usa chaves mas sem o conceito de chave:valor assim como o dicionário\n",
    "\n",
    "c1 = {1,2,3,40,5,67,7} #nao há ordenação\n",
    "print(c1)\n",
    "\n",
    "#adicionando um elemento\n",
    "c1.add(30)\n",
    "print(c1)\n",
    "\n",
    "#remover um elemento\n",
    "c1.remove(40)\n",
    "print(c1)"
   ]
  },
  {
   "cell_type": "code",
   "execution_count": 121,
   "metadata": {},
   "outputs": [
    {
     "name": "stdout",
     "output_type": "stream",
     "text": [
      "{1, 2, 67, 3, 5, 7, 200, 300, 30}\n"
     ]
    }
   ],
   "source": [
    "# union\n",
    "c2 = {300,200}\n",
    "c3 = c1.union(c2)\n",
    "print(c3)\n",
    "\n",
    "#interseção\n",
    "c3 = c1.intersection(c2)"
   ]
  },
  {
   "cell_type": "code",
   "execution_count": null,
   "metadata": {},
   "outputs": [],
   "source": []
  }
 ],
 "metadata": {
  "kernelspec": {
   "display_name": "base",
   "language": "python",
   "name": "python3"
  },
  "language_info": {
   "codemirror_mode": {
    "name": "ipython",
    "version": 3
   },
   "file_extension": ".py",
   "mimetype": "text/x-python",
   "name": "python",
   "nbconvert_exporter": "python",
   "pygments_lexer": "ipython3",
   "version": "3.12.4"
  }
 },
 "nbformat": 4,
 "nbformat_minor": 2
}
