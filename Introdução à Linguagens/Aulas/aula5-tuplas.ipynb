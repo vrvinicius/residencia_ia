{
 "cells": [
  {
   "cell_type": "markdown",
   "metadata": {},
   "source": [
    "# Tuplas"
   ]
  },
  {
   "cell_type": "code",
   "execution_count": 8,
   "metadata": {},
   "outputs": [
    {
     "name": "stdout",
     "output_type": "stream",
     "text": [
      "(1, 2, 'a', 'a', 'Vinícius')\n",
      "1\n",
      "1 2 a\n",
      "4\n",
      "2\n"
     ]
    }
   ],
   "source": [
    "#criando uma tupla\n",
    "minha_tupla = (1,2,'a','a','Vinícius')\n",
    "print(minha_tupla)\n",
    "\n",
    "#acessando elementos\n",
    "print(minha_tupla[0]) #saída do primeiro elemento\n",
    "\n",
    "#tentando alterar uma tupla\n",
    "#minha_tupla[0] = 10\n",
    "\n",
    "#desempacotar a tupla\n",
    "a,b,c,d,e = minha_tupla\n",
    "print(a,b,c)\n",
    "\n",
    "#métodos úteis\n",
    "indice = minha_tupla.index('Vinícius')\n",
    "print(indice)\n",
    "\n",
    "contagem = minha_tupla.count('a')\n",
    "print(contagem)"
   ]
  },
  {
   "cell_type": "markdown",
   "metadata": {},
   "source": [
    "### Dicionários com tuplas como chaves"
   ]
  },
  {
   "cell_type": "code",
   "execution_count": 15,
   "metadata": {},
   "outputs": [],
   "source": [
    "# Dicionário com tuplas como chaves para representar alunos e suas notas\n",
    "notas_alunos = {\n",
    "    ('Alice','Silva'):{'Matemática':80, 'Português':90, 'Química':100},\n",
    "    ('Bruno','Santos'):{'Matemática':85, 'Português':95,'Química':90},\n",
    "    ('Vinícius','Moraes'):{'Matemática':75, 'Português':75, 'Química':80}\n",
    "}"
   ]
  },
  {
   "cell_type": "code",
   "execution_count": 17,
   "metadata": {},
   "outputs": [
    {
     "data": {
      "text/plain": [
       "dict_items([('Matemática', 80), ('Português', 90), ('Química', 100)])"
      ]
     },
     "execution_count": 17,
     "metadata": {},
     "output_type": "execute_result"
    }
   ],
   "source": [
    "notas_alunos[('Alice','Silva')].items()"
   ]
  },
  {
   "cell_type": "code",
   "execution_count": 18,
   "metadata": {},
   "outputs": [],
   "source": [
    "notas_alunos[('Bob','Marley')] = {'Matemática':70, 'Português':100, 'Química':80}"
   ]
  },
  {
   "cell_type": "code",
   "execution_count": 19,
   "metadata": {},
   "outputs": [
    {
     "data": {
      "text/plain": [
       "{('Alice', 'Silva'): {'Matemática': 80, 'Português': 90, 'Química': 100},\n",
       " ('Bruno', 'Santos'): {'Matemática': 85, 'Português': 95, 'Química': 90},\n",
       " ('Vinícius', 'Moraes'): {'Matemática': 75, 'Português': 75, 'Química': 80},\n",
       " ('Bob', 'Marley'): {'Matemática': 70, 'Português': 100, 'Química': 80}}"
      ]
     },
     "execution_count": 19,
     "metadata": {},
     "output_type": "execute_result"
    }
   ],
   "source": [
    "notas_alunos"
   ]
  },
  {
   "cell_type": "markdown",
   "metadata": {},
   "source": [
    "### Dicionário com tuplas como valores"
   ]
  },
  {
   "cell_type": "code",
   "execution_count": 20,
   "metadata": {},
   "outputs": [],
   "source": [
    "localizacoes = {\n",
    "    'Biblioteca':(45.1212,-75.1010),\n",
    "    'Museu':(45.4045,-72.8585),\n",
    "    'Estádio':(45.4023,-72.8877)\n",
    "}"
   ]
  },
  {
   "cell_type": "code",
   "execution_count": 22,
   "metadata": {},
   "outputs": [
    {
     "data": {
      "text/plain": [
       "(45.4045, -72.8585)"
      ]
     },
     "execution_count": 22,
     "metadata": {},
     "output_type": "execute_result"
    }
   ],
   "source": [
    "localizacoes['Museu']"
   ]
  },
  {
   "cell_type": "markdown",
   "metadata": {},
   "source": [
    "### Dicionário com tuplas como chaves e valores para controle de estoque"
   ]
  },
  {
   "cell_type": "code",
   "execution_count": 2,
   "metadata": {},
   "outputs": [],
   "source": [
    "estoque_produtos = {\n",
    "    ('Eletrônicos','Smartphone'):(50,2000.00),\n",
    "    ('Vestuário','Camiseta'):(100,150.00)\n",
    "}"
   ]
  },
  {
   "cell_type": "code",
   "execution_count": 3,
   "metadata": {},
   "outputs": [
    {
     "data": {
      "text/plain": [
       "{('Eletrônicos', 'Smartphone'): (50, 2000.0),\n",
       " ('Vestuário', 'Camiseta'): (100, 150.0)}"
      ]
     },
     "execution_count": 3,
     "metadata": {},
     "output_type": "execute_result"
    }
   ],
   "source": [
    "estoque_produtos"
   ]
  }
 ],
 "metadata": {
  "kernelspec": {
   "display_name": "base",
   "language": "python",
   "name": "python3"
  },
  "language_info": {
   "codemirror_mode": {
    "name": "ipython",
    "version": 3
   },
   "file_extension": ".py",
   "mimetype": "text/x-python",
   "name": "python",
   "nbconvert_exporter": "python",
   "pygments_lexer": "ipython3",
   "version": "3.12.4"
  }
 },
 "nbformat": 4,
 "nbformat_minor": 2
}
